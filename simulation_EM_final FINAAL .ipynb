{
 "cells": [
  {
   "cell_type": "markdown",
   "metadata": {},
   "source": [
    "# SIMULATION"
   ]
  },
  {
   "cell_type": "code",
   "execution_count": 1,
   "metadata": {},
   "outputs": [],
   "source": [
    "import numpy as np\n",
    "import pandas as pd\n",
    "from numba import jit,njit, prange, objmode\n",
    "import threading\n",
    "import concurrent.futures\n",
    "import warnings\n",
    "import math\n",
    "from scipy.optimize import minimize_scalar\n",
    "\n",
    "warnings.filterwarnings('ignore') \n"
   ]
  },
  {
   "cell_type": "code",
   "execution_count": 2,
   "metadata": {},
   "outputs": [],
   "source": [
    "# Real simulation\n",
    "@njit(fastmath=True,parallel=True,cache=True)\n",
    "def add_error_jit(alpha_, variants_matrix): \n",
    "    return (variants_matrix - 2*alpha_*variants_matrix) + alpha_\n",
    "    \n",
    "class Population:\n",
    "    def __init__(self, size=10000, nb_variants=4, nb_mutation=40, min_hfm=5, max_hfm=10):\n",
    "        self.size = size  # represent the total number of read\n",
    "        self.nb_variants = nb_variants\n",
    "        self.nb_mutation = nb_mutation\n",
    "        self.ratio = []\n",
    "        # min_hfm,max_hfm = the number of mutation we assume that each variant has with high freq\n",
    "        self.min_hfm = min_hfm\n",
    "        self.max_hfm = max_hfm\n",
    "        \n",
    "\n",
    "        \n",
    "    def generate_ratio(self):  # Randomely generate ratio of each variant\n",
    "        self.ratio = np.random.dirichlet(np.ones(self.nb_variants) / 1.1, size=1)[0]\n",
    "        return self.ratio\n",
    "    \n",
    "    def generate_degradation_profile(self):\n",
    "        #degradation_deg: value from 0 to 10; 0 mean that there is no degradation\n",
    "        self.degradation_profile = np.full(self.nb_mutation, 0.9) #initialization\n",
    "        #randomly select wich mutations are degraded in fonction of degradation_deg:\n",
    "        self.degradation_profile[np.random.choice(range(self.nb_mutation), int(self.degradation_deg/10*self.nb_mutation), replace=False)] = 0.9 + self.degradation_deg/100\n",
    "        return self.degradation_profile\n",
    "        \n",
    "    def creat_BAM(self, alpha=0., degradation_deg=0):\n",
    "        ############# Creat variants_matrix M ###########\n",
    "        # variants_matrix is a nb_mutation x nb_variants matrix where each row represent a specific mutations\n",
    "        # and each col represent a variant and the value of variants_matrix[i, j] is the likelhood that\n",
    "        # the variation j will have the mutation i, there for it's between 0 and 1.\n",
    "        self.variants_matrix = np.random.rand(self.nb_mutation, self.nb_variants) / 10  # we initialise it randomly with value between 0 and 0.1 to represente the noise\n",
    "        ## attribute randomly selected mutation to a variant\n",
    "        for j in range(self.nb_variants):\n",
    "            self.nb_high_freq_mutations = np.random.randint(self.min_hfm, self.max_hfm)\n",
    "            self.high_freq_mutation = np.random.choice(\n",
    "                range(self.nb_mutation), self.nb_high_freq_mutations, replace=False\n",
    "            )  # randomly select wich mutations are in high freq for the variant j\n",
    "            self.variants_matrix[self.high_freq_mutation, j] = 1\n",
    "        ############# Add error ############\n",
    "        self.alpha = alpha\n",
    "        self.variants_matrix_prim = add_error_jit(self.alpha, self.variants_matrix)\n",
    "\n",
    "        ############# Creat BAM #############\n",
    "        # initial a matrix that will represent BAM data\n",
    "        self.BAM = np.zeros((self.size, self.nb_mutation + 1), dtype=np.dtype(\"i1\"))\n",
    "        # last colum represent the variant of the individual value from 0 to nb_variant,\n",
    "        # the rest  of colum tell if the individual i has the mutation j value 0 or 1 and -1 if the position has not been read\n",
    "        \n",
    "        #Attrebue a variant for each read\n",
    "        self.BAM[:, -1] = np.random.choice(range(self.nb_variants), p=self.ratio, size=self.size)\n",
    "        # Attrebute mutations to read i\n",
    "        for i in range(self.size):\n",
    "            self.BAM[i, :-1] = np.random.uniform(0, 1, self.nb_mutation) < self.variants_matrix_prim[:, self.BAM[i, -1]]\n",
    "            \n",
    "        # Choosing random indexes to put -1, that represente position not been read\n",
    "        self.degradation_deg = degradation_deg\n",
    "        self.generate_degradation_profile()\n",
    "        for col in range(self.nb_mutation):\n",
    "            index_not_read = np.random.choice(self.size, int(self.size * (self.degradation_profile[col])), replace=False)\n",
    "            self.BAM[index_not_read,col] = -1\n",
    "\n",
    "    def generate_observation(self):\n",
    "        #Calculate nb of reads N where N[i] represente nb of read in position i\n",
    "        self.N = np.array([self.size - sum(self.BAM[:, col] == -1) for col in range(self.nb_mutation)])\n",
    "        #Calculate X : nb of mutations observations\n",
    "        self.X = np.array([sum(self.BAM[:, col] == 1) for col in range(self.nb_mutation)])\n",
    "\n",
    "        self.maf = self.X/self.N\n",
    "        self.maf = np.nan_to_num(self.maf, posinf = 0., neginf = 0.)\n",
    "        \n",
    "    def solve_with_lstsq(self, alpha=0.):\n",
    "        #make alpha into account\n",
    "        self.variants_matrix_sol = add_error_jit(alpha, self.variants_matrix)\n",
    "        \n",
    "        try:\n",
    "            self.sol = np.linalg.lstsq(self.variants_matrix_sol, self.maf)\n",
    "        except:\n",
    "            self.maf = np.nan_to_num(self.maf)\n",
    "            self.sol = np.linalg.lstsq(self.variants_matrix_sol, self.maf)\n",
    "        \n",
    "        return self.sol\n",
    "\n"
   ]
  },
  {
   "cell_type": "markdown",
   "metadata": {},
   "source": [
    "# EM implementation"
   ]
  },
  {
   "cell_type": "code",
   "execution_count": 12,
   "metadata": {},
   "outputs": [],
   "source": [
    "#%%\n",
    "@njit(fastmath=True,parallel=True,cache=True)\n",
    "def P_x_ik(BAM_k_i, variants_matrix_i_j):\n",
    "    if BAM_k_i == -1:  # case: X{i,k} was not read\n",
    "        return 1\n",
    "    elif BAM_k_i == 1:\n",
    "        return variants_matrix_i_j\n",
    "    else:\n",
    "        return 1 - variants_matrix_i_j\n",
    "\n",
    "        \n",
    "                \n",
    "@njit(fastmath=True,parallel=True,cache=True)\n",
    "def P_x_k(BAM, variants_matrix, nb_mutation, k, j):\n",
    "    res = 1\n",
    "    for i in prange(nb_mutation):\n",
    "        res *= P_x_ik(BAM[k,i], variants_matrix[i, j])\n",
    "    return res\n",
    "\n",
    "@njit(fastmath=True,parallel=True,cache=True)\n",
    "def dist(v1, v2):\n",
    "    return np.sum(np.abs(v1 - v2))\n",
    "    \n",
    "    \n",
    "@njit(fastmath=True,parallel=True,cache=True)\n",
    "def Expectation_v(alpha, size, nb_variants, nb_mutation, BAM, variants_matrix, T, theta_new):\n",
    "    variants_matrix_prim = variants_matrix - 2*alpha*variants_matrix + alpha\n",
    "    theta_new_log = [np.log(theta_new_j) for theta_new_j in theta_new]\n",
    "    result = 0.\n",
    "    for k in prange(size):\n",
    "        for j in prange(nb_variants):\n",
    "            result += T[k, j]*theta_new_log[j]\n",
    "            for i in prange(nb_mutation):\n",
    "                result +=  T[k, j]*np.log(P_x_ik(BAM[k, i], variants_matrix_prim[i, j]))\n",
    "    return -1*result\n",
    "\n",
    "def call_minimize_scalar(size, nb_variants, nb_mutation, BAM, variants_matrix, T, theta_new):\n",
    "    result = minimize_scalar(Expectation_v, bounds=(0, 0.5), method='bounded',args=(size, nb_variants, nb_mutation, BAM, variants_matrix, T, theta_new))\n",
    "    return result.x\n",
    "# %%\n",
    "@njit(fastmath=True,parallel=True,cache=True)\n",
    "def algo_EM(size, nb_variants, nb_mutation, BAM, variants_matrix,alpha=-1, eps=0.0001, max_iter = 100):\n",
    "    # print(\"EM_start\")\n",
    "    # initialisation\n",
    "    \n",
    "    if alpha == -1 or alpha == 0.: #alpha = -1 means, 2) alpha = 0. cause probleme so change it to a verry small value \n",
    "        alpha = 0.00001\n",
    "        alpha_provided = False\n",
    "    else:\n",
    "        alpha_provided = True \n",
    "    T = np.zeros((size, nb_variants), np.float64)\n",
    "    theta = np.array([1.0 / nb_variants for j in range(nb_variants)])\n",
    "    theta_new = np.array([1.0 / nb_variants for j in range(nb_variants)])  # just to enter in the while loop\n",
    "    theta_new[0] = theta[0] + 0.02 \n",
    "    M_prim = variants_matrix - 2*alpha*variants_matrix + alpha\n",
    "    \n",
    "    # Start Iteration\n",
    "    idx_iter = 0\n",
    "    while ((dist(theta, theta_new) > eps) and (idx_iter < max_iter)):\n",
    "        ## E step:\n",
    "        theta = theta_new\n",
    "        for k in prange(size):\n",
    "            denominator = 0\n",
    "            for jj in prange(nb_variants):\n",
    "                denominator += P_x_k(BAM, M_prim, nb_mutation, k, jj) * theta[jj]\n",
    "                \n",
    "            for j in prange(nb_variants):\n",
    "                T[k, j] = P_x_k(BAM, M_prim, nb_mutation, k, j) * theta[j] / denominator\n",
    "        \n",
    "        \n",
    "        ## M step:\n",
    "        theta_new = T.sum(axis=0) / size\n",
    "        # print('new : ',theta_new)\n",
    "        idx_iter += 1\n",
    "        \n",
    "        ## Optimise for alpha:\n",
    "        if not alpha_provided:\n",
    "            with objmode(alpha_optimal='float64'):\n",
    "                alpha_optimal = call_minimize_scalar(size, nb_variants, nb_mutation, BAM, variants_matrix, T, theta_new)\n",
    "            # print(alpha_optimal)\n",
    "            M_prim = variants_matrix - 2*alpha_optimal*variants_matrix + alpha_optimal\n",
    "        else:\n",
    "            alpha_optimal = alpha\n",
    "    return (theta_new, alpha_optimal)"
   ]
  },
  {
   "cell_type": "code",
   "execution_count": 14,
   "metadata": {},
   "outputs": [
    {
     "name": "stdout",
     "output_type": "stream",
     "text": [
      "=>  (array([0.34889, 0.0634 , 0.31496, 0.01037, 0.26239]), 0.1967435045152103)\n"
     ]
    }
   ],
   "source": [
    "p1 = Population(10000, 5, 60, 6, 13)\n",
    "p1.ratio = [0.35, 0.06, 0.3, 0.01, 0.28]\n",
    "p1.creat_BAM(alpha=0.2, degradation_deg=5)\n",
    "p1.generate_observation()\n",
    "print( '=> ', algo_EM(p1.size, p1.nb_variants, p1.nb_mutation, p1.BAM, p1.variants_matrix))\n"
   ]
  },
  {
   "cell_type": "markdown",
   "metadata": {},
   "source": [
    "## Basic test"
   ]
  },
  {
   "cell_type": "code",
   "execution_count": 16,
   "metadata": {},
   "outputs": [
    {
     "name": "stdout",
     "output_type": "stream",
     "text": [
      "EM algo ration is: (array([0.19522, 0.22142, 0.30521, 0.00659, 0.27157]), 0.20338298311915853)\n",
      "naif ration is: [0.26998 0.22657 0.37195 0.11967 0.2727 ]\n",
      "Real ration is:  [0.2, 0.21, 0.3, 0.01, 0.28]\n",
      "\n",
      "\n",
      "EM algo ration is: (array([0.19419, 0.20529, 0.29024, 0.01928, 0.291  ]), 0.20204544240375025)\n",
      "naif ration is: [0.19184 0.24173 0.34583 0.16401 0.32225]\n",
      "Real ration is:  [0.2, 0.21, 0.3, 0.01, 0.28]\n",
      "\n",
      "\n",
      "EM algo ration is: (array([0.18923, 0.21167, 0.29749, 0.02291, 0.2787 ]), 0.1953092816504521)\n",
      "naif ration is: [0.20627 0.20792 0.2942  0.17983 0.31362]\n",
      "Real ration is:  [0.2, 0.21, 0.3, 0.01, 0.28]\n",
      "\n",
      "\n",
      "EM algo ration is: (array([0.22063, 0.19948, 0.29686, 0.00852, 0.2745 ]), 0.19996552135926565)\n",
      "naif ration is: [0.23915 0.26126 0.28652 0.1295  0.35503]\n",
      "Real ration is:  [0.2, 0.21, 0.3, 0.01, 0.28]\n",
      "\n",
      "\n",
      "EM algo ration is: (array([0.20436, 0.21233, 0.30373, 0.01025, 0.26933]), 0.19751370203467167)\n",
      "naif ration is: [0.24992 0.26858 0.26552 0.12405 0.29555]\n",
      "Real ration is:  [0.2, 0.21, 0.3, 0.01, 0.28]\n",
      "\n",
      "\n"
     ]
    }
   ],
   "source": [
    "nb_variants = 8\n",
    "nb_mutation = 60\n",
    "size = 100000\n",
    "a= np.ones((10,8))\n",
    "## Basic tests\n",
    "for i in range(5):\n",
    "    p1 = Population(10000, 5, 60, 6, 13)\n",
    "    p1.ratio = [0.2, 0.21, 0.3, 0.01, 0.28]\n",
    "    p1.creat_BAM(alpha = 0.2, degradation_deg = 5)\n",
    "    p1.generate_observation()\n",
    "    # print(p1.X_prim)\n",
    "    np.set_printoptions(precision=5, suppress = True)\n",
    "    print('EM algo ration is:', algo_EM(p1.size, p1.nb_variants, p1.nb_mutation, p1.BAM, p1.variants_matrix))\n",
    "    print('naif ration is:', p1.solve_with_lstsq(alpha=0.)[0])\n",
    "    print('Real ration is: ', p1.ratio)\n",
    "    print('\\n')"
   ]
  },
  {
   "cell_type": "markdown",
   "metadata": {},
   "source": [
    "## Star simulation"
   ]
  },
  {
   "cell_type": "markdown",
   "metadata": {},
   "source": [
    "# Simulation V2 "
   ]
  },
  {
   "cell_type": "code",
   "execution_count": 5,
   "metadata": {},
   "outputs": [],
   "source": [
    "def start_one_simulation(size, nb_variants, nb_mutation, min_hfm, ratio, idx):\n",
    "    global result_N\n",
    "    global results\n",
    "    txt = f\"{cnt} / {sub_total}\" + f\"  Simulation : {idx} / {nb_simulation}\"\n",
    "    populaton_actual = Population(size, nb_variants, nb_mutation, min_hfm, min_hfm+1)\n",
    "    populaton_actual.ratio = ratio\n",
    "    for degradation_deg in degradation_deg_list:\n",
    "        for alpha in alpha_list:\n",
    "            populaton_actual.creat_BAM(alpha, degradation_deg)\n",
    "            populaton_actual.generate_observation()\n",
    "            result_EM, alpha_found = algo_EM(populaton_actual.size, populaton_actual.nb_variants, populaton_actual.nb_mutation, populaton_actual.BAM, populaton_actual.variants_matrix, eps=0.0001)\n",
    "            new_row = [size, nb_variants, nb_mutation, min_hfm, min_hfm+1, alpha, populaton_actual.ratio, degradation_deg, populaton_actual.solve_with_lstsq()[0], populaton_actual.solve_with_lstsq(alpha)[0], algo_EM(populaton_actual.size, populaton_actual.nb_variants, populaton_actual.nb_mutation, populaton_actual.BAM, populaton_actual.variants_matrix, eps=0.0001, alpha=alpha)[0],result_EM, alpha_found]\n",
    "            results.append(new_row)\n",
    "            result_N.append([size, nb_variants, nb_mutation, degradation_deg, populaton_actual.N])\n",
    "            # print(new_row)\n",
    "    print (txt)"
   ]
  },
  {
   "cell_type": "code",
   "execution_count": 6,
   "metadata": {},
   "outputs": [
    {
     "name": "stdout",
     "output_type": "stream",
     "text": [
      "1 / 4\n",
      "1 / 4  Simulation : 0 / 100\n",
      "1 / 4  Simulation : 2 / 100\n",
      "1 / 4  Simulation : 3 / 100\n",
      "1 / 4  Simulation : 1 / 100\n",
      "1 / 4  Simulation : 4 / 100\n",
      "1 / 4  Simulation : 5 / 100\n",
      "1 / 4  Simulation : 6 / 100\n",
      "1 / 4  Simulation : 7 / 100\n",
      "1 / 4  Simulation : 8 / 100\n",
      "1 / 4  Simulation : 9 / 100\n",
      "1 / 4  Simulation : 10 / 100\n",
      "1 / 4  Simulation : 11 / 100\n",
      "1 / 4  Simulation : 12 / 100\n",
      "1 / 4  Simulation : 13 / 100\n",
      "1 / 4  Simulation : 14 / 100\n",
      "1 / 4  Simulation : 16 / 100\n",
      "1 / 4  Simulation : 15 / 100\n",
      "1 / 4  Simulation : 17 / 100\n",
      "1 / 4  Simulation : 19 / 100\n",
      "1 / 4  Simulation : 18 / 100\n",
      "1 / 4  Simulation : 20 / 100\n",
      "1 / 4  Simulation : 21 / 100\n",
      "1 / 4  Simulation : 22 / 100\n",
      "1 / 4  Simulation : 23 / 100\n",
      "1 / 4  Simulation : 25 / 100\n",
      "1 / 4  Simulation : 24 / 100\n",
      "1 / 4  Simulation : 26 / 100\n",
      "1 / 4  Simulation : 28 / 100\n",
      "1 / 4  Simulation : 27 / 100\n",
      "1 / 4  Simulation : 30 / 100\n",
      "1 / 4  Simulation : 29 / 100\n",
      "1 / 4  Simulation : 31 / 100\n",
      "1 / 4  Simulation : 33 / 100\n",
      "1 / 4  Simulation : 32 / 100\n",
      "1 / 4  Simulation : 34 / 100\n",
      "1 / 4  Simulation : 36 / 100\n",
      "1 / 4  Simulation : 35 / 100\n",
      "1 / 4  Simulation : 37 / 100\n",
      "1 / 4  Simulation : 38 / 100\n",
      "1 / 4  Simulation : 40 / 100\n",
      "1 / 4  Simulation : 39 / 100\n",
      "1 / 4  Simulation : 41 / 100\n",
      "1 / 4  Simulation : 43 / 100\n",
      "1 / 4  Simulation : 44 / 100\n",
      "1 / 4  Simulation : 42 / 100\n",
      "1 / 4  Simulation : 46 / 100\n",
      "1 / 4  Simulation : 47 / 100\n",
      "1 / 4  Simulation : 45 / 100\n",
      "1 / 4  Simulation : 48 / 100\n",
      "1 / 4  Simulation : 50 / 100\n",
      "1 / 4  Simulation : 49 / 100\n",
      "1 / 4  Simulation : 51 / 100\n",
      "1 / 4  Simulation : 53 / 100\n",
      "1 / 4  Simulation : 52 / 100\n",
      "1 / 4  Simulation : 54 / 100\n",
      "1 / 4  Simulation : 55 / 100\n",
      "1 / 4  Simulation : 56 / 100\n",
      "1 / 4  Simulation : 58 / 100\n",
      "1 / 4  Simulation : 57 / 100\n",
      "1 / 4  Simulation : 60 / 100\n",
      "1 / 4  Simulation : 59 / 100\n",
      "1 / 4  Simulation : 61 / 100\n",
      "1 / 4  Simulation : 62 / 100\n",
      "1 / 4  Simulation : 63 / 100\n",
      "1 / 4  Simulation : 65 / 100\n",
      "1 / 4  Simulation : 64 / 100\n",
      "1 / 4  Simulation : 67 / 100\n",
      "1 / 4  Simulation : 66 / 100\n",
      "1 / 4  Simulation : 68 / 100\n",
      "1 / 4  Simulation : 69 / 100\n",
      "1 / 4  Simulation : 70 / 100\n",
      "1 / 4  Simulation : 72 / 100\n",
      "1 / 4  Simulation : 71 / 100\n",
      "1 / 4  Simulation : 73 / 100\n",
      "1 / 4  Simulation : 74 / 100\n",
      "1 / 4  Simulation : 75 / 100\n",
      "1 / 4  Simulation : 76 / 100\n",
      "1 / 4  Simulation : 78 / 100\n",
      "1 / 4  Simulation : 77 / 100\n",
      "1 / 4  Simulation : 79 / 100\n",
      "1 / 4  Simulation : 80 / 100\n",
      "1 / 4  Simulation : 81 / 100\n",
      "1 / 4  Simulation : 83 / 100\n",
      "1 / 4  Simulation : 82 / 100\n",
      "1 / 4  Simulation : 85 / 100\n",
      "1 / 4  Simulation : 84 / 100\n",
      "1 / 4  Simulation : 86 / 100\n",
      "1 / 4  Simulation : 87 / 100\n",
      "1 / 4  Simulation : 88 / 100\n",
      "1 / 4  Simulation : 90 / 100\n",
      "1 / 4  Simulation : 89 / 100\n",
      "1 / 4  Simulation : 92 / 100\n",
      "1 / 4  Simulation : 93 / 100\n",
      "1 / 4  Simulation : 91 / 100\n",
      "1 / 4  Simulation : 94 / 100\n",
      "1 / 4  Simulation : 95 / 100\n",
      "1 / 4  Simulation : 96 / 100\n",
      "1 / 4  Simulation : 97 / 100\n",
      "1 / 4  Simulation : 99 / 100\n",
      "1 / 4  Simulation : 98 / 100\n",
      "2 / 4\n",
      "2 / 4  Simulation : 2 / 100\n",
      "2 / 4  Simulation : 3 / 100\n",
      "2 / 4  Simulation : 1 / 100\n",
      "2 / 4  Simulation : 0 / 100\n",
      "2 / 4  Simulation : 4 / 100\n",
      "2 / 4  Simulation : 7 / 100\n",
      "2 / 4  Simulation : 5 / 100\n",
      "2 / 4  Simulation : 6 / 100\n",
      "2 / 4  Simulation : 8 / 100\n",
      "2 / 4  Simulation : 9 / 100\n",
      "2 / 4  Simulation : 10 / 100\n",
      "2 / 4  Simulation : 11 / 100\n",
      "2 / 4  Simulation : 12 / 100\n",
      "2 / 4  Simulation : 13 / 100\n",
      "2 / 4  Simulation : 14 / 100\n",
      "2 / 4  Simulation : 15 / 100\n",
      "2 / 4  Simulation : 16 / 100\n",
      "2 / 4  Simulation : 17 / 100\n",
      "2 / 4  Simulation : 18 / 100\n",
      "2 / 4  Simulation : 19 / 100\n",
      "2 / 4  Simulation : 20 / 100\n",
      "2 / 4  Simulation : 21 / 100\n",
      "2 / 4  Simulation : 22 / 100\n",
      "2 / 4  Simulation : 23 / 100\n",
      "2 / 4  Simulation : 24 / 100\n",
      "2 / 4  Simulation : 25 / 100\n",
      "2 / 4  Simulation : 26 / 100\n",
      "2 / 4  Simulation : 27 / 100\n",
      "2 / 4  Simulation : 28 / 100\n",
      "2 / 4  Simulation : 29 / 100\n",
      "2 / 4  Simulation : 30 / 100\n",
      "2 / 4  Simulation : 31 / 100\n",
      "2 / 4  Simulation : 32 / 100\n",
      "2 / 4  Simulation : 33 / 100\n",
      "2 / 4  Simulation : 34 / 100\n",
      "2 / 4  Simulation : 35 / 100\n",
      "2 / 4  Simulation : 36 / 100\n",
      "2 / 4  Simulation : 37 / 100\n",
      "2 / 4  Simulation : 38 / 100\n",
      "2 / 4  Simulation : 39 / 100\n",
      "2 / 4  Simulation : 40 / 100\n",
      "2 / 4  Simulation : 41 / 100\n",
      "2 / 4  Simulation : 42 / 100\n",
      "2 / 4  Simulation : 43 / 100\n",
      "2 / 4  Simulation : 45 / 100\n",
      "2 / 4  Simulation : 44 / 100\n",
      "2 / 4  Simulation : 46 / 100\n",
      "2 / 4  Simulation : 47 / 100\n",
      "2 / 4  Simulation : 48 / 100\n",
      "2 / 4  Simulation : 49 / 100\n",
      "2 / 4  Simulation : 50 / 100\n",
      "2 / 4  Simulation : 51 / 100\n",
      "2 / 4  Simulation : 52 / 100\n",
      "2 / 4  Simulation : 53 / 100\n",
      "2 / 4  Simulation : 54 / 100\n",
      "2 / 4  Simulation : 56 / 100\n",
      "2 / 4  Simulation : 55 / 100\n",
      "2 / 4  Simulation : 57 / 100\n",
      "2 / 4  Simulation : 58 / 100\n",
      "2 / 4  Simulation : 59 / 100\n",
      "2 / 4  Simulation : 61 / 100\n",
      "2 / 4  Simulation : 60 / 100\n",
      "2 / 4  Simulation : 62 / 100\n",
      "2 / 4  Simulation : 63 / 100\n",
      "2 / 4  Simulation : 64 / 100\n",
      "2 / 4  Simulation : 65 / 100\n",
      "2 / 4  Simulation : 66 / 100\n",
      "2 / 4  Simulation : 67 / 100\n",
      "2 / 4  Simulation : 68 / 100\n",
      "2 / 4  Simulation : 69 / 100\n",
      "2 / 4  Simulation : 70 / 100\n",
      "2 / 4  Simulation : 71 / 100\n",
      "2 / 4  Simulation : 72 / 100\n",
      "2 / 4  Simulation : 73 / 100\n",
      "2 / 4  Simulation : 74 / 100\n",
      "2 / 4  Simulation : 75 / 100\n",
      "2 / 4  Simulation : 76 / 100\n",
      "2 / 4  Simulation : 77 / 100\n",
      "2 / 4  Simulation : 78 / 100\n",
      "2 / 4  Simulation : 79 / 100\n",
      "2 / 4  Simulation : 80 / 100\n",
      "2 / 4  Simulation : 81 / 100\n",
      "2 / 4  Simulation : 82 / 100\n",
      "2 / 4  Simulation : 83 / 100\n",
      "2 / 4  Simulation : 84 / 100\n",
      "2 / 4  Simulation : 85 / 100\n",
      "2 / 4  Simulation : 86 / 100\n",
      "2 / 4  Simulation : 87 / 100\n",
      "2 / 4  Simulation : 88 / 100\n",
      "2 / 4  Simulation : 89 / 100\n",
      "2 / 4  Simulation : 90 / 100\n",
      "2 / 4  Simulation : 91 / 100\n",
      "2 / 4  Simulation : 92 / 100\n",
      "2 / 4  Simulation : 93 / 100\n",
      "2 / 4  Simulation : 95 / 100\n",
      "2 / 4  Simulation : 94 / 100\n",
      "2 / 4  Simulation : 96 / 100\n",
      "2 / 4  Simulation : 99 / 100\n",
      "2 / 4  Simulation : 97 / 100\n",
      "2 / 4  Simulation : 98 / 100\n",
      "3 / 4\n",
      "3 / 4  Simulation : 0 / 100\n",
      "3 / 4  Simulation : 3 / 100\n",
      "3 / 4  Simulation : 2 / 100\n",
      "3 / 4  Simulation : 1 / 100\n",
      "3 / 4  Simulation : 6 / 100\n",
      "3 / 4  Simulation : 4 / 100\n",
      "3 / 4  Simulation : 5 / 100\n",
      "3 / 4  Simulation : 7 / 100\n",
      "3 / 4  Simulation : 9 / 100\n",
      "3 / 4  Simulation : 10 / 100\n",
      "3 / 4  Simulation : 8 / 100\n",
      "3 / 4  Simulation : 11 / 100\n",
      "3 / 4  Simulation : 13 / 100\n",
      "3 / 4  Simulation : 14 / 100\n",
      "3 / 4  Simulation : 12 / 100\n",
      "3 / 4  Simulation : 15 / 100\n",
      "3 / 4  Simulation : 18 / 100\n",
      "3 / 4  Simulation : 16 / 100\n",
      "3 / 4  Simulation : 17 / 100\n",
      "3 / 4  Simulation : 19 / 100\n",
      "3 / 4  Simulation : 20 / 100\n",
      "3 / 4  Simulation : 21 / 100\n",
      "3 / 4  Simulation : 22 / 100\n",
      "3 / 4  Simulation : 23 / 100\n",
      "3 / 4  Simulation : 24 / 100\n",
      "3 / 4  Simulation : 26 / 100\n",
      "3 / 4  Simulation : 25 / 100\n",
      "3 / 4  Simulation : 27 / 100\n",
      "3 / 4  Simulation : 28 / 100\n",
      "3 / 4  Simulation : 29 / 100\n",
      "3 / 4  Simulation : 30 / 100\n",
      "3 / 4  Simulation : 32 / 100\n",
      "3 / 4  Simulation : 31 / 100\n",
      "3 / 4  Simulation : 33 / 100\n",
      "3 / 4  Simulation : 34 / 100\n",
      "3 / 4  Simulation : 35 / 100\n",
      "3 / 4  Simulation : 37 / 100\n",
      "3 / 4  Simulation : 36 / 100\n",
      "3 / 4  Simulation : 38 / 100\n",
      "3 / 4  Simulation : 39 / 100\n",
      "3 / 4  Simulation : 40 / 100\n",
      "3 / 4  Simulation : 41 / 100\n",
      "3 / 4  Simulation : 42 / 100\n",
      "3 / 4  Simulation : 43 / 100\n",
      "3 / 4  Simulation : 44 / 100\n",
      "3 / 4  Simulation : 45 / 100\n",
      "3 / 4  Simulation : 46 / 100\n",
      "3 / 4  Simulation : 47 / 100\n",
      "3 / 4  Simulation : 48 / 100\n",
      "3 / 4  Simulation : 49 / 100\n",
      "3 / 4  Simulation : 50 / 100\n",
      "3 / 4  Simulation : 51 / 100\n",
      "3 / 4  Simulation : 52 / 100\n",
      "3 / 4  Simulation : 53 / 100\n",
      "3 / 4  Simulation : 54 / 100\n",
      "3 / 4  Simulation : 55 / 100\n",
      "3 / 4  Simulation : 56 / 100\n",
      "3 / 4  Simulation : 57 / 100\n",
      "3 / 4  Simulation : 58 / 100\n",
      "3 / 4  Simulation : 59 / 100\n",
      "3 / 4  Simulation : 60 / 100\n",
      "3 / 4  Simulation : 61 / 100\n",
      "3 / 4  Simulation : 62 / 100\n",
      "3 / 4  Simulation : 63 / 100\n",
      "3 / 4  Simulation : 64 / 100\n",
      "3 / 4  Simulation : 65 / 100\n",
      "3 / 4  Simulation : 66 / 100\n",
      "3 / 4  Simulation : 67 / 100\n",
      "3 / 4  Simulation : 68 / 100\n",
      "3 / 4  Simulation : 69 / 100\n",
      "3 / 4  Simulation : 70 / 100\n",
      "3 / 4  Simulation : 71 / 100\n",
      "3 / 4  Simulation : 72 / 100\n",
      "3 / 4  Simulation : 73 / 100\n",
      "3 / 4  Simulation : 74 / 100\n",
      "3 / 4  Simulation : 75 / 100\n",
      "3 / 4  Simulation : 76 / 100\n",
      "3 / 4  Simulation : 77 / 100\n",
      "3 / 4  Simulation : 78 / 100\n",
      "3 / 4  Simulation : 79 / 100\n",
      "3 / 4  Simulation : 80 / 100\n",
      "3 / 4  Simulation : 81 / 100\n",
      "3 / 4  Simulation : 82 / 100\n",
      "3 / 4  Simulation : 83 / 100\n",
      "3 / 4  Simulation : 84 / 100\n",
      "3 / 4  Simulation : 85 / 100\n",
      "3 / 4  Simulation : 86 / 100\n",
      "3 / 4  Simulation : 87 / 100\n",
      "3 / 4  Simulation : 88 / 100\n",
      "3 / 4  Simulation : 89 / 100\n",
      "3 / 4  Simulation : 91 / 100\n",
      "3 / 4  Simulation : 90 / 100\n",
      "3 / 4  Simulation : 92 / 100\n",
      "3 / 4  Simulation : 93 / 100\n",
      "3 / 4  Simulation : 94 / 100\n",
      "3 / 4  Simulation : 95 / 100\n",
      "3 / 4  Simulation : 96 / 100\n",
      "3 / 4  Simulation : 97 / 100\n",
      "3 / 4  Simulation : 98 / 100\n",
      "3 / 4  Simulation : 99 / 100\n",
      "4 / 4\n",
      "4 / 4  Simulation : 2 / 100\n",
      "4 / 4  Simulation : 1 / 100\n",
      "4 / 4  Simulation : 3 / 100\n",
      "4 / 4  Simulation : 0 / 100\n",
      "4 / 4  Simulation : 4 / 100\n",
      "4 / 4  Simulation : 6 / 100\n",
      "4 / 4  Simulation : 5 / 100\n",
      "4 / 4  Simulation : 7 / 100\n",
      "4 / 4  Simulation : 8 / 100\n",
      "4 / 4  Simulation : 9 / 100\n",
      "4 / 4  Simulation : 10 / 100\n",
      "4 / 4  Simulation : 11 / 100\n",
      "4 / 4  Simulation : 12 / 100\n",
      "4 / 4  Simulation : 13 / 100\n",
      "4 / 4  Simulation : 14 / 100\n",
      "4 / 4  Simulation : 15 / 100\n",
      "4 / 4  Simulation : 17 / 100\n",
      "4 / 4  Simulation : 16 / 100\n",
      "4 / 4  Simulation : 18 / 100\n",
      "4 / 4  Simulation : 19 / 100\n",
      "4 / 4  Simulation : 20 / 100\n",
      "4 / 4  Simulation : 21 / 100\n",
      "4 / 4  Simulation : 22 / 100\n",
      "4 / 4  Simulation : 23 / 100\n",
      "4 / 4  Simulation : 24 / 100\n",
      "4 / 4  Simulation : 25 / 100\n",
      "4 / 4  Simulation : 26 / 100\n",
      "4 / 4  Simulation : 27 / 100\n",
      "4 / 4  Simulation : 29 / 100\n",
      "4 / 4  Simulation : 28 / 100\n",
      "4 / 4  Simulation : 30 / 100\n",
      "4 / 4  Simulation : 31 / 100\n",
      "4 / 4  Simulation : 32 / 100\n",
      "4 / 4  Simulation : 33 / 100\n",
      "4 / 4  Simulation : 34 / 100\n",
      "4 / 4  Simulation : 35 / 100\n",
      "4 / 4  Simulation : 36 / 100\n",
      "4 / 4  Simulation : 37 / 100\n",
      "4 / 4  Simulation : 38 / 100\n",
      "4 / 4  Simulation : 39 / 100\n",
      "4 / 4  Simulation : 40 / 100\n",
      "4 / 4  Simulation : 41 / 100\n",
      "4 / 4  Simulation : 42 / 100\n",
      "4 / 4  Simulation : 43 / 100\n",
      "4 / 4  Simulation : 44 / 100\n",
      "4 / 4  Simulation : 45 / 100\n",
      "4 / 4  Simulation : 46 / 100\n",
      "4 / 4  Simulation : 47 / 100\n",
      "4 / 4  Simulation : 48 / 100\n",
      "4 / 4  Simulation : 49 / 100\n",
      "4 / 4  Simulation : 50 / 100\n",
      "4 / 4  Simulation : 51 / 100\n",
      "4 / 4  Simulation : 52 / 100\n",
      "4 / 4  Simulation : 53 / 100\n",
      "4 / 4  Simulation : 54 / 100\n",
      "4 / 4  Simulation : 55 / 100\n",
      "4 / 4  Simulation : 56 / 100\n",
      "4 / 4  Simulation : 57 / 100\n",
      "4 / 4  Simulation : 58 / 100\n",
      "4 / 4  Simulation : 59 / 100\n",
      "4 / 4  Simulation : 60 / 100\n",
      "4 / 4  Simulation : 61 / 100\n",
      "4 / 4  Simulation : 62 / 100\n",
      "4 / 4  Simulation : 63 / 100\n",
      "4 / 4  Simulation : 64 / 100\n",
      "4 / 4  Simulation : 65 / 100\n",
      "4 / 4  Simulation : 66 / 100\n",
      "4 / 4  Simulation : 67 / 100\n",
      "4 / 4  Simulation : 68 / 100\n",
      "4 / 4  Simulation : 69 / 100\n",
      "4 / 4  Simulation : 70 / 100\n",
      "4 / 4  Simulation : 71 / 100\n",
      "4 / 4  Simulation : 72 / 100\n",
      "4 / 4  Simulation : 73 / 100\n",
      "4 / 4  Simulation : 74 / 100\n",
      "4 / 4  Simulation : 75 / 100\n",
      "4 / 4  Simulation : 76 / 100\n",
      "4 / 4  Simulation : 77 / 100\n",
      "4 / 4  Simulation : 78 / 100\n",
      "4 / 4  Simulation : 79 / 100\n",
      "4 / 4  Simulation : 80 / 100\n",
      "4 / 4  Simulation : 81 / 100\n",
      "4 / 4  Simulation : 82 / 100\n",
      "4 / 4  Simulation : 83 / 100\n",
      "4 / 4  Simulation : 84 / 100\n",
      "4 / 4  Simulation : 85 / 100\n",
      "4 / 4  Simulation : 86 / 100\n",
      "4 / 4  Simulation : 87 / 100\n",
      "4 / 4  Simulation : 88 / 100\n",
      "4 / 4  Simulation : 89 / 100\n",
      "4 / 4  Simulation : 90 / 100\n",
      "4 / 4  Simulation : 91 / 100\n",
      "4 / 4  Simulation : 92 / 100\n",
      "4 / 4  Simulation : 93 / 100\n",
      "4 / 4  Simulation : 94 / 100\n",
      "4 / 4  Simulation : 95 / 100\n",
      "4 / 4  Simulation : 96 / 100\n",
      "4 / 4  Simulation : 97 / 100\n",
      "4 / 4  Simulation : 98 / 100\n",
      "4 / 4  Simulation : 99 / 100\n"
     ]
    }
   ],
   "source": [
    "results = []\n",
    "result_N = []\n",
    "nb_simulation = 100\n",
    "size_list = [1000, 10000]\n",
    "nb_variants_list = [5]\n",
    "nb_mutation_list = [20, 60]\n",
    "min_hfm_list = [8]\n",
    "alpha_list = list(np.arange(0.,0.45, 0.05))\n",
    "degradation_deg_list = [5]\n",
    "sub_total=len(size_list)*len(nb_variants_list)*len(nb_mutation_list)*len(min_hfm_list) #Just to help knowing the progress of the semulation while running\n",
    "cnt = 1\n",
    "cpt = 0\n",
    "\n",
    "#Thread pool \n",
    "raw_links = set()\n",
    "good_link = set()\n",
    "csv_writer_lock = threading.Lock()\n",
    "MAX_WORKERS = 4 #to be changed in function of your machine proc power\n",
    "for size in size_list:\n",
    "    for nb_variants in nb_variants_list:\n",
    "        ratio = np.random.dirichlet(np.ones(nb_variants) / 1.2, size=1)[0]\n",
    "        for nb_mutation in nb_mutation_list:\n",
    "            for min_hfm in min_hfm_list:\n",
    "                print(f\"{cnt} / {sub_total}\")\n",
    "                my_threads = []\n",
    "                with concurrent.futures.ThreadPoolExecutor(max_workers=MAX_WORKERS) as executor:\n",
    "                    tasks = {executor.submit(lambda p: start_one_simulation(*p), [size, nb_variants, nb_mutation, min_hfm, ratio, idx]): idx for idx in range(nb_simulation)}\n",
    "                cnt += 1\n"
   ]
  },
  {
   "cell_type": "code",
   "execution_count": 10,
   "metadata": {},
   "outputs": [],
   "source": [
    "#Export data\n",
    "\n",
    "results_df = pd.DataFrame(results, columns=['size','nb_variants', 'nb_mutation', 'min_hfm', 'max_hfm', 'alpha', 'ratio', 'degradation_deg','naif_solution', 'naif_solution_alpha_known','EM_solution_alpha_known', 'EM_solution', 'alpha_found'])\n",
    "results_df.to_csv('result_semulation_EM_v4_temp1.csv', index=False)\n",
    "results_N_df = pd.DataFrame(result_N, columns=['size','nb_variants', 'nb_mutation', 'degradation_deg', 'populaton_actual.N'])\n",
    "results_N_df.to_csv('N_result_N_semulation_EM_v4_temp1.csv', index=False)"
   ]
  },
  {
   "cell_type": "markdown",
   "metadata": {},
   "source": [
    "# Visualization"
   ]
  },
  {
   "cell_type": "code",
   "execution_count": 1,
   "metadata": {},
   "outputs": [],
   "source": [
    "from ast import literal_eval\n",
    "import plotly.express as px\n",
    "import plotly.graph_objects as go"
   ]
  },
  {
   "cell_type": "code",
   "execution_count": 5,
   "metadata": {},
   "outputs": [
    {
     "data": {
      "text/html": [
       "<div>\n",
       "<style scoped>\n",
       "    .dataframe tbody tr th:only-of-type {\n",
       "        vertical-align: middle;\n",
       "    }\n",
       "\n",
       "    .dataframe tbody tr th {\n",
       "        vertical-align: top;\n",
       "    }\n",
       "\n",
       "    .dataframe thead th {\n",
       "        text-align: right;\n",
       "    }\n",
       "</style>\n",
       "<table border=\"1\" class=\"dataframe\">\n",
       "  <thead>\n",
       "    <tr style=\"text-align: right;\">\n",
       "      <th></th>\n",
       "      <th>size</th>\n",
       "      <th>nb_variants</th>\n",
       "      <th>nb_mutation</th>\n",
       "      <th>min_hfm</th>\n",
       "      <th>max_hfm</th>\n",
       "      <th>alpha</th>\n",
       "      <th>ratio</th>\n",
       "      <th>degradation_deg</th>\n",
       "      <th>naif_solution</th>\n",
       "      <th>naif_solution_alpha_known</th>\n",
       "      <th>EM_solution_alpha_known</th>\n",
       "      <th>EM_solution</th>\n",
       "      <th>alpha_found</th>\n",
       "    </tr>\n",
       "  </thead>\n",
       "  <tbody>\n",
       "    <tr>\n",
       "      <th>3195</th>\n",
       "      <td>10000</td>\n",
       "      <td>5</td>\n",
       "      <td>60</td>\n",
       "      <td>8</td>\n",
       "      <td>9</td>\n",
       "      <td>0.3</td>\n",
       "      <td>[0.24800529, 0.05149473, 0.43705379, 0.2055608...</td>\n",
       "      <td>5</td>\n",
       "      <td>[0.24051196, 0.25982457, 0.35936438, 0.3151916...</td>\n",
       "      <td>[0.22976356, 0.0479442, 0.46028101, 0.1930195,...</td>\n",
       "      <td>[0.23099201, 0.05171382, 0.4589883, 0.19317974...</td>\n",
       "      <td>[0.23158413, 0.04991013, 0.46293839, 0.1924323...</td>\n",
       "      <td>0.302968</td>\n",
       "    </tr>\n",
       "    <tr>\n",
       "      <th>3534</th>\n",
       "      <td>10000</td>\n",
       "      <td>5</td>\n",
       "      <td>60</td>\n",
       "      <td>8</td>\n",
       "      <td>9</td>\n",
       "      <td>0.3</td>\n",
       "      <td>[0.24800529, 0.05149473, 0.43705379, 0.2055608...</td>\n",
       "      <td>5</td>\n",
       "      <td>[0.32771505, 0.2317027, 0.45473492, 0.27294864...</td>\n",
       "      <td>[0.25758525, 0.05801533, 0.42408992, 0.2214980...</td>\n",
       "      <td>[0.2573474, 0.0609611, 0.42475447, 0.21624223,...</td>\n",
       "      <td>[0.25752372, 0.06065145, 0.425241, 0.2166367, ...</td>\n",
       "      <td>0.300682</td>\n",
       "    </tr>\n",
       "    <tr>\n",
       "      <th>3467</th>\n",
       "      <td>10000</td>\n",
       "      <td>5</td>\n",
       "      <td>60</td>\n",
       "      <td>8</td>\n",
       "      <td>9</td>\n",
       "      <td>0.3</td>\n",
       "      <td>[0.24800529, 0.05149473, 0.43705379, 0.2055608...</td>\n",
       "      <td>5</td>\n",
       "      <td>[0.33328737, 0.28702709, 0.37184354, 0.2346945...</td>\n",
       "      <td>[0.25560192, 0.04883021, 0.43644305, 0.2240250...</td>\n",
       "      <td>[0.24931587, 0.05301952, 0.42870639, 0.2099858...</td>\n",
       "      <td>[0.24930315, 0.05176828, 0.43073164, 0.2100427...</td>\n",
       "      <td>0.301914</td>\n",
       "    </tr>\n",
       "    <tr>\n",
       "      <th>3233</th>\n",
       "      <td>10000</td>\n",
       "      <td>5</td>\n",
       "      <td>60</td>\n",
       "      <td>8</td>\n",
       "      <td>9</td>\n",
       "      <td>0.3</td>\n",
       "      <td>[0.24800529, 0.05149473, 0.43705379, 0.2055608...</td>\n",
       "      <td>5</td>\n",
       "      <td>[0.35246455, 0.28512395, 0.42220268, 0.3013051...</td>\n",
       "      <td>[0.24135322, 0.05615886, 0.43580831, 0.2089607...</td>\n",
       "      <td>[0.24505377, 0.0646553, 0.43233044, 0.20207088...</td>\n",
       "      <td>[0.24502938, 0.06512408, 0.4320117, 0.20214063...</td>\n",
       "      <td>0.299685</td>\n",
       "    </tr>\n",
       "    <tr>\n",
       "      <th>3246</th>\n",
       "      <td>10000</td>\n",
       "      <td>5</td>\n",
       "      <td>60</td>\n",
       "      <td>8</td>\n",
       "      <td>9</td>\n",
       "      <td>0.3</td>\n",
       "      <td>[0.24800529, 0.05149473, 0.43705379, 0.2055608...</td>\n",
       "      <td>5</td>\n",
       "      <td>[0.26492824, 0.26225522, 0.44638669, 0.3241975...</td>\n",
       "      <td>[0.22018986, 0.05130789, 0.45772443, 0.2125907...</td>\n",
       "      <td>[0.21831183, 0.05267009, 0.45459121, 0.2045343...</td>\n",
       "      <td>[0.21850763, 0.05175477, 0.45612641, 0.2045553...</td>\n",
       "      <td>0.301684</td>\n",
       "    </tr>\n",
       "    <tr>\n",
       "      <th>...</th>\n",
       "      <td>...</td>\n",
       "      <td>...</td>\n",
       "      <td>...</td>\n",
       "      <td>...</td>\n",
       "      <td>...</td>\n",
       "      <td>...</td>\n",
       "      <td>...</td>\n",
       "      <td>...</td>\n",
       "      <td>...</td>\n",
       "      <td>...</td>\n",
       "      <td>...</td>\n",
       "      <td>...</td>\n",
       "      <td>...</td>\n",
       "    </tr>\n",
       "    <tr>\n",
       "      <th>3320</th>\n",
       "      <td>10000</td>\n",
       "      <td>5</td>\n",
       "      <td>60</td>\n",
       "      <td>8</td>\n",
       "      <td>9</td>\n",
       "      <td>0.3</td>\n",
       "      <td>[0.24800529, 0.05149473, 0.43705379, 0.2055608...</td>\n",
       "      <td>5</td>\n",
       "      <td>[0.30669639, 0.20096909, 0.35711316, 0.2614703...</td>\n",
       "      <td>[0.24597108, 0.05517249, 0.43733179, 0.2226958...</td>\n",
       "      <td>[0.23292093, 0.05580253, 0.43389442, 0.2196556...</td>\n",
       "      <td>[0.23324783, 0.05499084, 0.43525854, 0.2197725...</td>\n",
       "      <td>0.301044</td>\n",
       "    </tr>\n",
       "    <tr>\n",
       "      <th>3323</th>\n",
       "      <td>10000</td>\n",
       "      <td>5</td>\n",
       "      <td>60</td>\n",
       "      <td>8</td>\n",
       "      <td>9</td>\n",
       "      <td>0.3</td>\n",
       "      <td>[0.24800529, 0.05149473, 0.43705379, 0.2055608...</td>\n",
       "      <td>5</td>\n",
       "      <td>[0.33583055, 0.21248819, 0.26814261, 0.2421262...</td>\n",
       "      <td>[0.2351881, 0.05616511, 0.44102365, 0.19499539...</td>\n",
       "      <td>[0.2326047, 0.07292138, 0.42829233, 0.1992422,...</td>\n",
       "      <td>[0.2323315, 0.07266356, 0.4292419, 0.19937334,...</td>\n",
       "      <td>0.300920</td>\n",
       "    </tr>\n",
       "    <tr>\n",
       "      <th>3403</th>\n",
       "      <td>10000</td>\n",
       "      <td>5</td>\n",
       "      <td>60</td>\n",
       "      <td>8</td>\n",
       "      <td>9</td>\n",
       "      <td>0.3</td>\n",
       "      <td>[0.24800529, 0.05149473, 0.43705379, 0.2055608...</td>\n",
       "      <td>5</td>\n",
       "      <td>[0.36821742, 0.2760955, 0.416048, 0.24180104, ...</td>\n",
       "      <td>[0.24904185, 0.04529866, 0.43686833, 0.2077919...</td>\n",
       "      <td>[0.24550486, 0.03708986, 0.43808887, 0.2121012...</td>\n",
       "      <td>[0.24558761, 0.03952587, 0.43480564, 0.2099483...</td>\n",
       "      <td>0.295561</td>\n",
       "    </tr>\n",
       "    <tr>\n",
       "      <th>3540</th>\n",
       "      <td>10000</td>\n",
       "      <td>5</td>\n",
       "      <td>60</td>\n",
       "      <td>8</td>\n",
       "      <td>9</td>\n",
       "      <td>0.3</td>\n",
       "      <td>[0.24800529, 0.05149473, 0.43705379, 0.2055608...</td>\n",
       "      <td>5</td>\n",
       "      <td>[0.33129673, 0.21885593, 0.39067757, 0.3665324...</td>\n",
       "      <td>[0.2435326, 0.06961852, 0.42982971, 0.23150639...</td>\n",
       "      <td>[0.22649112, 0.06789287, 0.43116048, 0.2221809...</td>\n",
       "      <td>[0.22702975, 0.06644338, 0.43472095, 0.2217861...</td>\n",
       "      <td>0.303422</td>\n",
       "    </tr>\n",
       "    <tr>\n",
       "      <th>3395</th>\n",
       "      <td>10000</td>\n",
       "      <td>5</td>\n",
       "      <td>60</td>\n",
       "      <td>8</td>\n",
       "      <td>9</td>\n",
       "      <td>0.3</td>\n",
       "      <td>[0.24800529, 0.05149473, 0.43705379, 0.2055608...</td>\n",
       "      <td>5</td>\n",
       "      <td>[0.30390658, 0.13741501, 0.397185, 0.26938992,...</td>\n",
       "      <td>[0.24320199, 0.0570157, 0.44550588, 0.20332263...</td>\n",
       "      <td>[0.24829533, 0.06923185, 0.44013914, 0.1945750...</td>\n",
       "      <td>[0.24751505, 0.07014305, 0.43397116, 0.1953610...</td>\n",
       "      <td>0.293101</td>\n",
       "    </tr>\n",
       "  </tbody>\n",
       "</table>\n",
       "<p>100 rows × 13 columns</p>\n",
       "</div>"
      ],
      "text/plain": [
       "       size  nb_variants  nb_mutation  min_hfm  max_hfm  alpha  \\\n",
       "3195  10000            5           60        8        9    0.3   \n",
       "3534  10000            5           60        8        9    0.3   \n",
       "3467  10000            5           60        8        9    0.3   \n",
       "3233  10000            5           60        8        9    0.3   \n",
       "3246  10000            5           60        8        9    0.3   \n",
       "...     ...          ...          ...      ...      ...    ...   \n",
       "3320  10000            5           60        8        9    0.3   \n",
       "3323  10000            5           60        8        9    0.3   \n",
       "3403  10000            5           60        8        9    0.3   \n",
       "3540  10000            5           60        8        9    0.3   \n",
       "3395  10000            5           60        8        9    0.3   \n",
       "\n",
       "                                                  ratio  degradation_deg  \\\n",
       "3195  [0.24800529, 0.05149473, 0.43705379, 0.2055608...                5   \n",
       "3534  [0.24800529, 0.05149473, 0.43705379, 0.2055608...                5   \n",
       "3467  [0.24800529, 0.05149473, 0.43705379, 0.2055608...                5   \n",
       "3233  [0.24800529, 0.05149473, 0.43705379, 0.2055608...                5   \n",
       "3246  [0.24800529, 0.05149473, 0.43705379, 0.2055608...                5   \n",
       "...                                                 ...              ...   \n",
       "3320  [0.24800529, 0.05149473, 0.43705379, 0.2055608...                5   \n",
       "3323  [0.24800529, 0.05149473, 0.43705379, 0.2055608...                5   \n",
       "3403  [0.24800529, 0.05149473, 0.43705379, 0.2055608...                5   \n",
       "3540  [0.24800529, 0.05149473, 0.43705379, 0.2055608...                5   \n",
       "3395  [0.24800529, 0.05149473, 0.43705379, 0.2055608...                5   \n",
       "\n",
       "                                          naif_solution  \\\n",
       "3195  [0.24051196, 0.25982457, 0.35936438, 0.3151916...   \n",
       "3534  [0.32771505, 0.2317027, 0.45473492, 0.27294864...   \n",
       "3467  [0.33328737, 0.28702709, 0.37184354, 0.2346945...   \n",
       "3233  [0.35246455, 0.28512395, 0.42220268, 0.3013051...   \n",
       "3246  [0.26492824, 0.26225522, 0.44638669, 0.3241975...   \n",
       "...                                                 ...   \n",
       "3320  [0.30669639, 0.20096909, 0.35711316, 0.2614703...   \n",
       "3323  [0.33583055, 0.21248819, 0.26814261, 0.2421262...   \n",
       "3403  [0.36821742, 0.2760955, 0.416048, 0.24180104, ...   \n",
       "3540  [0.33129673, 0.21885593, 0.39067757, 0.3665324...   \n",
       "3395  [0.30390658, 0.13741501, 0.397185, 0.26938992,...   \n",
       "\n",
       "                              naif_solution_alpha_known  \\\n",
       "3195  [0.22976356, 0.0479442, 0.46028101, 0.1930195,...   \n",
       "3534  [0.25758525, 0.05801533, 0.42408992, 0.2214980...   \n",
       "3467  [0.25560192, 0.04883021, 0.43644305, 0.2240250...   \n",
       "3233  [0.24135322, 0.05615886, 0.43580831, 0.2089607...   \n",
       "3246  [0.22018986, 0.05130789, 0.45772443, 0.2125907...   \n",
       "...                                                 ...   \n",
       "3320  [0.24597108, 0.05517249, 0.43733179, 0.2226958...   \n",
       "3323  [0.2351881, 0.05616511, 0.44102365, 0.19499539...   \n",
       "3403  [0.24904185, 0.04529866, 0.43686833, 0.2077919...   \n",
       "3540  [0.2435326, 0.06961852, 0.42982971, 0.23150639...   \n",
       "3395  [0.24320199, 0.0570157, 0.44550588, 0.20332263...   \n",
       "\n",
       "                                EM_solution_alpha_known  \\\n",
       "3195  [0.23099201, 0.05171382, 0.4589883, 0.19317974...   \n",
       "3534  [0.2573474, 0.0609611, 0.42475447, 0.21624223,...   \n",
       "3467  [0.24931587, 0.05301952, 0.42870639, 0.2099858...   \n",
       "3233  [0.24505377, 0.0646553, 0.43233044, 0.20207088...   \n",
       "3246  [0.21831183, 0.05267009, 0.45459121, 0.2045343...   \n",
       "...                                                 ...   \n",
       "3320  [0.23292093, 0.05580253, 0.43389442, 0.2196556...   \n",
       "3323  [0.2326047, 0.07292138, 0.42829233, 0.1992422,...   \n",
       "3403  [0.24550486, 0.03708986, 0.43808887, 0.2121012...   \n",
       "3540  [0.22649112, 0.06789287, 0.43116048, 0.2221809...   \n",
       "3395  [0.24829533, 0.06923185, 0.44013914, 0.1945750...   \n",
       "\n",
       "                                            EM_solution  alpha_found  \n",
       "3195  [0.23158413, 0.04991013, 0.46293839, 0.1924323...     0.302968  \n",
       "3534  [0.25752372, 0.06065145, 0.425241, 0.2166367, ...     0.300682  \n",
       "3467  [0.24930315, 0.05176828, 0.43073164, 0.2100427...     0.301914  \n",
       "3233  [0.24502938, 0.06512408, 0.4320117, 0.20214063...     0.299685  \n",
       "3246  [0.21850763, 0.05175477, 0.45612641, 0.2045553...     0.301684  \n",
       "...                                                 ...          ...  \n",
       "3320  [0.23324783, 0.05499084, 0.43525854, 0.2197725...     0.301044  \n",
       "3323  [0.2323315, 0.07266356, 0.4292419, 0.19937334,...     0.300920  \n",
       "3403  [0.24558761, 0.03952587, 0.43480564, 0.2099483...     0.295561  \n",
       "3540  [0.22702975, 0.06644338, 0.43472095, 0.2217861...     0.303422  \n",
       "3395  [0.24751505, 0.07014305, 0.43397116, 0.1953610...     0.293101  \n",
       "\n",
       "[100 rows x 13 columns]"
      ]
     },
     "execution_count": 5,
     "metadata": {},
     "output_type": "execute_result"
    }
   ],
   "source": [
    "#Import data\n",
    "data=pd.read_csv('result_semulation_EM_v4_temp1.csv')\n",
    "# convert columns dtype trom str to their 'real' dtypes\n",
    "data.infer_objects()\n",
    "#column that contain lists\n",
    "data['ratio'] = data.ratio.apply(lambda x: literal_eval(str(x).replace('   ', ',').replace('  ', ',').replace(' ', ',').replace(',,,', ',').replace(',,', ',').replace('[,', '[').replace(',]', ']')))\n",
    "data['naif_solution'] = data.naif_solution.apply(lambda x: literal_eval(str(x).replace('   ', ',').replace('  ', ',').replace(' ', ',').replace(',,,', ',').replace(',,', ',').replace('[,', '[').replace(',]', ']')))\n",
    "data['naif_solution_alpha_known'] = data['naif_solution_alpha_known'].apply(lambda x: literal_eval(str(x).replace('   ', ',').replace('  ', ',').replace(' ', ',').replace(',,,', ',').replace(',,', ',').replace('[,', '[').replace(',]', ']')))\n",
    "data['EM_solution'] = data.EM_solution.apply(lambda x: literal_eval(str(x).replace('   ', ',').replace('  ', ',').replace(' ', ',').replace(',,,', ',').replace(',,', ',').replace('[,', '[').replace(',]', ']')))\n",
    "data['EM_solution_alpha_known'] = data['EM_solution_alpha_known'].apply(lambda x: literal_eval(str(x).replace('   ', ',').replace('  ', ',').replace(' ', ',').replace(',,,', ',').replace(',,', ',').replace('[,', '[').replace(',]', ']')))\n",
    "# Sort by alpha \n",
    "temp_df = data.sort_values(by='alpha')\n",
    "temp_df = temp_df[(temp_df['alpha'] == 0.3) & (temp_df['size'] == 10000) & (temp_df['nb_mutation'] == 60)]\n",
    "temp_df"
   ]
  },
  {
   "cell_type": "code",
   "execution_count": 6,
   "metadata": {},
   "outputs": [
    {
     "data": {
      "application/vnd.plotly.v1+json": {
       "config": {
        "plotlyServerURL": "https://plot.ly"
       },
       "data": [
        {
         "alignmentgroup": "True",
         "hovertemplate": "=naif_solution<br>value=%{y}<extra></extra>",
         "legendgroup": "naif_solution",
         "marker": {
          "color": "#636efa"
         },
         "name": "naif_solution",
         "notched": false,
         "offsetgroup": "naif_solution",
         "orientation": "v",
         "showlegend": true,
         "type": "box",
         "x0": " ",
         "xaxis": "x",
         "y": [
          0.24051196,
          0.32771505,
          0.33328737,
          0.35246455,
          0.26492824,
          0.33318368,
          0.32112958,
          0.28850551,
          0.27565701,
          0.36348841,
          0.28800242,
          0.24666494,
          0.31971661,
          0.314629,
          0.25530333,
          0.25020447,
          0.24438999,
          0.36377973,
          0.36211277,
          0.33114108,
          0.26776911,
          0.32102649,
          0.25520694,
          0.32714262,
          0.27011663,
          0.32016207,
          0.32722457,
          0.36551681,
          0.24425069,
          0.35080349,
          0.32590603,
          0.36878395,
          0.35199333,
          0.32045847,
          0.3128689,
          0.37891444,
          0.32058791,
          0.3710894,
          0.32709655,
          0.24757239,
          0.34673835,
          0.25066668,
          0.28314019,
          0.35033843,
          0.33996308,
          0.32310841,
          0.28958059,
          0.35887345,
          0.19560489,
          0.2718621,
          0.35218906,
          0.31799404,
          0.22800727,
          0.3099389,
          0.31402858,
          0.37137386,
          0.31508549,
          0.30261223,
          0.31658901,
          0.21515855,
          0.23308806,
          0.27261223,
          0.31396962,
          0.31621474,
          0.32754285,
          0.34472365,
          0.28274947,
          0.34353552,
          0.26287139,
          0.29028363,
          0.36928994,
          0.33796165,
          0.30153667,
          0.31179491,
          0.25996994,
          0.26026521,
          0.29422001,
          0.25785021,
          0.29749742,
          0.29684003,
          0.40141308,
          0.186691,
          0.27974256,
          0.29498914,
          0.34237754,
          0.30733901,
          0.31444542,
          0.30074591,
          0.33361967,
          0.34803561,
          0.31233471,
          0.35076267,
          0.30648395,
          0.32539893,
          0.34682119,
          0.30669639,
          0.33583055,
          0.36821742,
          0.33129673,
          0.30390658
         ],
         "y0": " ",
         "yaxis": "y"
        },
        {
         "alignmentgroup": "True",
         "hovertemplate": "=naif_solution_alpha_known<br>value=%{y}<extra></extra>",
         "legendgroup": "naif_solution_alpha_known",
         "marker": {
          "color": "#EF553B"
         },
         "name": "naif_solution_alpha_known",
         "notched": false,
         "offsetgroup": "naif_solution_alpha_known",
         "orientation": "v",
         "showlegend": true,
         "type": "box",
         "x0": " ",
         "xaxis": "x2",
         "y": [
          0.22976356,
          0.25758525,
          0.25560192,
          0.24135322,
          0.22018986,
          0.27611173,
          0.2460007,
          0.23667692,
          0.25438998,
          0.25003404,
          0.23410881,
          0.24788169,
          0.24561371,
          0.24285186,
          0.24159887,
          0.24941977,
          0.23351331,
          0.25319028,
          0.2581455,
          0.2434773,
          0.25144943,
          0.24766206,
          0.24875377,
          0.28227812,
          0.23868004,
          0.25503093,
          0.25167644,
          0.28327988,
          0.27854264,
          0.25454474,
          0.23702781,
          0.25519963,
          0.27060827,
          0.2535674,
          0.26341836,
          0.26759717,
          0.27709931,
          0.24166751,
          0.28096087,
          0.25944628,
          0.24196234,
          0.23230432,
          0.23929105,
          0.27822735,
          0.22888491,
          0.2623081,
          0.27112359,
          0.24668767,
          0.24679309,
          0.23940926,
          0.2472205,
          0.26163834,
          0.22343252,
          0.2559211,
          0.27986852,
          0.29534621,
          0.23269827,
          0.25490351,
          0.26627346,
          0.27202614,
          0.24938305,
          0.25851294,
          0.29662138,
          0.26367918,
          0.24809651,
          0.2417689,
          0.24601601,
          0.22439845,
          0.22046896,
          0.28194756,
          0.24475555,
          0.2441515,
          0.25215676,
          0.2317403,
          0.2542683,
          0.22907466,
          0.22970887,
          0.25630806,
          0.23992575,
          0.28708357,
          0.24107671,
          0.25016287,
          0.23497198,
          0.22450109,
          0.24532867,
          0.23041255,
          0.2545282,
          0.26557408,
          0.25933197,
          0.25483605,
          0.23456985,
          0.25140764,
          0.2435251,
          0.24529391,
          0.22209413,
          0.24597108,
          0.2351881,
          0.24904185,
          0.2435326,
          0.24320199
         ],
         "y0": " ",
         "yaxis": "y2"
        },
        {
         "alignmentgroup": "True",
         "hovertemplate": "=EM_solution_alpha_known<br>value=%{y}<extra></extra>",
         "legendgroup": "EM_solution_alpha_known",
         "marker": {
          "color": "#00cc96"
         },
         "name": "EM_solution_alpha_known",
         "notched": false,
         "offsetgroup": "EM_solution_alpha_known",
         "orientation": "v",
         "showlegend": true,
         "type": "box",
         "x0": " ",
         "xaxis": "x3",
         "y": [
          0.23099201,
          0.2573474,
          0.24931587,
          0.24505377,
          0.21831183,
          0.27590444,
          0.24471891,
          0.23496994,
          0.25634326,
          0.24833987,
          0.25088767,
          0.23628299,
          0.24675911,
          0.24042539,
          0.23579626,
          0.25607768,
          0.23135377,
          0.24530424,
          0.25635304,
          0.24195064,
          0.25245141,
          0.25225848,
          0.2543499,
          0.27456627,
          0.22597565,
          0.25804265,
          0.25189998,
          0.27135921,
          0.26733808,
          0.2512497,
          0.23827291,
          0.25809627,
          0.25903483,
          0.25277123,
          0.27027855,
          0.2679489,
          0.27740572,
          0.24266608,
          0.27902981,
          0.24649861,
          0.25133823,
          0.23057003,
          0.2358713,
          0.26427275,
          0.22795229,
          0.25320389,
          0.25484396,
          0.23034112,
          0.24504248,
          0.22995312,
          0.24155733,
          0.25022982,
          0.2219153,
          0.24741512,
          0.27861141,
          0.27876824,
          0.23486622,
          0.26017259,
          0.26588264,
          0.27444376,
          0.25173311,
          0.24701465,
          0.28140196,
          0.26709535,
          0.22945549,
          0.23815,
          0.25308187,
          0.23118851,
          0.22434314,
          0.26383637,
          0.24354501,
          0.24219002,
          0.23992236,
          0.24373497,
          0.25169473,
          0.22228605,
          0.23854114,
          0.24935614,
          0.24957848,
          0.2845103,
          0.23716697,
          0.24965375,
          0.22462596,
          0.22532193,
          0.25423972,
          0.22823017,
          0.26044994,
          0.27198602,
          0.2457876,
          0.25504489,
          0.22847928,
          0.24942229,
          0.2428388,
          0.2425152,
          0.22056931,
          0.23292093,
          0.2326047,
          0.24550486,
          0.22649112,
          0.24829533
         ],
         "y0": " ",
         "yaxis": "y3"
        },
        {
         "alignmentgroup": "True",
         "hovertemplate": "=EM_solution<br>value=%{y}<extra></extra>",
         "legendgroup": "EM_solution",
         "marker": {
          "color": "#ab63fa"
         },
         "name": "EM_solution",
         "notched": false,
         "offsetgroup": "EM_solution",
         "orientation": "v",
         "showlegend": true,
         "type": "box",
         "x0": " ",
         "xaxis": "x4",
         "y": [
          0.23158413,
          0.25752372,
          0.24930315,
          0.24502938,
          0.21850763,
          0.27613812,
          0.24489148,
          0.23520611,
          0.25590354,
          0.24843471,
          0.25048099,
          0.23573031,
          0.2469734,
          0.23985361,
          0.23581321,
          0.25459778,
          0.23170746,
          0.24524588,
          0.25680984,
          0.24201536,
          0.25302392,
          0.25183287,
          0.25409251,
          0.27474419,
          0.22588346,
          0.25808286,
          0.25194094,
          0.27136572,
          0.2676688,
          0.25134182,
          0.23829874,
          0.25788873,
          0.25978302,
          0.25216722,
          0.27004821,
          0.26827811,
          0.27748914,
          0.24337369,
          0.27930117,
          0.24681657,
          0.25169698,
          0.22833386,
          0.23552212,
          0.26447946,
          0.22804536,
          0.25319609,
          0.25554947,
          0.2304754,
          0.2444435,
          0.22926847,
          0.24129792,
          0.25029801,
          0.22182478,
          0.24725051,
          0.27769953,
          0.27976008,
          0.23446676,
          0.25993783,
          0.26640446,
          0.27301198,
          0.25231073,
          0.2475204,
          0.28005012,
          0.26638722,
          0.22993814,
          0.23846278,
          0.25321093,
          0.2295419,
          0.22413832,
          0.26346991,
          0.24359543,
          0.24265941,
          0.2398303,
          0.24360582,
          0.25172681,
          0.22066967,
          0.23856359,
          0.25055034,
          0.24930901,
          0.28547651,
          0.23695026,
          0.24812682,
          0.22471431,
          0.22551448,
          0.25429362,
          0.2283171,
          0.25890004,
          0.27176438,
          0.24681179,
          0.25461855,
          0.22879787,
          0.25033377,
          0.24282003,
          0.24141943,
          0.2202735,
          0.23324783,
          0.2323315,
          0.24558761,
          0.22702975,
          0.24751505
         ],
         "y0": " ",
         "yaxis": "y4"
        },
        {
         "marker": {
          "color": "rgba(0, 0, 0, 1)",
          "line": {
           "width": 2
          },
          "size": 10,
          "symbol": 34
         },
         "mode": "markers",
         "name": "0.248 Real value",
         "type": "scatter",
         "xaxis": "x",
         "y": [
          0.24800529
         ],
         "yaxis": "y"
        },
        {
         "marker": {
          "color": "rgba(0, 0, 0, 1)",
          "line": {
           "width": 2
          },
          "size": 10,
          "symbol": 34
         },
         "mode": "markers",
         "name": "0.248 Real value",
         "type": "scatter",
         "xaxis": "x2",
         "y": [
          0.24800529
         ],
         "yaxis": "y2"
        },
        {
         "marker": {
          "color": "rgba(0, 0, 0, 1)",
          "line": {
           "width": 2
          },
          "size": 10,
          "symbol": 34
         },
         "mode": "markers",
         "name": "0.248 Real value",
         "type": "scatter",
         "xaxis": "x3",
         "y": [
          0.24800529
         ],
         "yaxis": "y3"
        },
        {
         "marker": {
          "color": "rgba(0, 0, 0, 1)",
          "line": {
           "width": 2
          },
          "size": 10,
          "symbol": 34
         },
         "mode": "markers",
         "name": "0.248 Real value",
         "type": "scatter",
         "xaxis": "x4",
         "y": [
          0.24800529
         ],
         "yaxis": "y4"
        }
       ],
       "layout": {
        "annotations": [
         {
          "font": {},
          "showarrow": false,
          "text": "=naif_solution",
          "x": 0.1175,
          "xanchor": "center",
          "xref": "paper",
          "y": 1,
          "yanchor": "bottom",
          "yref": "paper"
         },
         {
          "font": {},
          "showarrow": false,
          "text": "=naif_solution_alpha_known",
          "x": 0.3725,
          "xanchor": "center",
          "xref": "paper",
          "y": 1,
          "yanchor": "bottom",
          "yref": "paper"
         },
         {
          "font": {},
          "showarrow": false,
          "text": "=EM_solution_alpha_known",
          "x": 0.6275,
          "xanchor": "center",
          "xref": "paper",
          "y": 1,
          "yanchor": "bottom",
          "yref": "paper"
         },
         {
          "font": {},
          "showarrow": false,
          "text": "=EM_solution",
          "x": 0.8824999999999998,
          "xanchor": "center",
          "xref": "paper",
          "y": 1,
          "yanchor": "bottom",
          "yref": "paper"
         }
        ],
        "boxmode": "overlay",
        "legend": {
         "title": {
          "text": ""
         },
         "tracegroupgap": 0
        },
        "template": {
         "data": {
          "bar": [
           {
            "error_x": {
             "color": "#2a3f5f"
            },
            "error_y": {
             "color": "#2a3f5f"
            },
            "marker": {
             "line": {
              "color": "#E5ECF6",
              "width": 0.5
             }
            },
            "type": "bar"
           }
          ],
          "barpolar": [
           {
            "marker": {
             "line": {
              "color": "#E5ECF6",
              "width": 0.5
             }
            },
            "type": "barpolar"
           }
          ],
          "carpet": [
           {
            "aaxis": {
             "endlinecolor": "#2a3f5f",
             "gridcolor": "white",
             "linecolor": "white",
             "minorgridcolor": "white",
             "startlinecolor": "#2a3f5f"
            },
            "baxis": {
             "endlinecolor": "#2a3f5f",
             "gridcolor": "white",
             "linecolor": "white",
             "minorgridcolor": "white",
             "startlinecolor": "#2a3f5f"
            },
            "type": "carpet"
           }
          ],
          "choropleth": [
           {
            "colorbar": {
             "outlinewidth": 0,
             "ticks": ""
            },
            "type": "choropleth"
           }
          ],
          "contour": [
           {
            "colorbar": {
             "outlinewidth": 0,
             "ticks": ""
            },
            "colorscale": [
             [
              0,
              "#0d0887"
             ],
             [
              0.1111111111111111,
              "#46039f"
             ],
             [
              0.2222222222222222,
              "#7201a8"
             ],
             [
              0.3333333333333333,
              "#9c179e"
             ],
             [
              0.4444444444444444,
              "#bd3786"
             ],
             [
              0.5555555555555556,
              "#d8576b"
             ],
             [
              0.6666666666666666,
              "#ed7953"
             ],
             [
              0.7777777777777778,
              "#fb9f3a"
             ],
             [
              0.8888888888888888,
              "#fdca26"
             ],
             [
              1,
              "#f0f921"
             ]
            ],
            "type": "contour"
           }
          ],
          "contourcarpet": [
           {
            "colorbar": {
             "outlinewidth": 0,
             "ticks": ""
            },
            "type": "contourcarpet"
           }
          ],
          "heatmap": [
           {
            "colorbar": {
             "outlinewidth": 0,
             "ticks": ""
            },
            "colorscale": [
             [
              0,
              "#0d0887"
             ],
             [
              0.1111111111111111,
              "#46039f"
             ],
             [
              0.2222222222222222,
              "#7201a8"
             ],
             [
              0.3333333333333333,
              "#9c179e"
             ],
             [
              0.4444444444444444,
              "#bd3786"
             ],
             [
              0.5555555555555556,
              "#d8576b"
             ],
             [
              0.6666666666666666,
              "#ed7953"
             ],
             [
              0.7777777777777778,
              "#fb9f3a"
             ],
             [
              0.8888888888888888,
              "#fdca26"
             ],
             [
              1,
              "#f0f921"
             ]
            ],
            "type": "heatmap"
           }
          ],
          "heatmapgl": [
           {
            "colorbar": {
             "outlinewidth": 0,
             "ticks": ""
            },
            "colorscale": [
             [
              0,
              "#0d0887"
             ],
             [
              0.1111111111111111,
              "#46039f"
             ],
             [
              0.2222222222222222,
              "#7201a8"
             ],
             [
              0.3333333333333333,
              "#9c179e"
             ],
             [
              0.4444444444444444,
              "#bd3786"
             ],
             [
              0.5555555555555556,
              "#d8576b"
             ],
             [
              0.6666666666666666,
              "#ed7953"
             ],
             [
              0.7777777777777778,
              "#fb9f3a"
             ],
             [
              0.8888888888888888,
              "#fdca26"
             ],
             [
              1,
              "#f0f921"
             ]
            ],
            "type": "heatmapgl"
           }
          ],
          "histogram": [
           {
            "marker": {
             "colorbar": {
              "outlinewidth": 0,
              "ticks": ""
             }
            },
            "type": "histogram"
           }
          ],
          "histogram2d": [
           {
            "colorbar": {
             "outlinewidth": 0,
             "ticks": ""
            },
            "colorscale": [
             [
              0,
              "#0d0887"
             ],
             [
              0.1111111111111111,
              "#46039f"
             ],
             [
              0.2222222222222222,
              "#7201a8"
             ],
             [
              0.3333333333333333,
              "#9c179e"
             ],
             [
              0.4444444444444444,
              "#bd3786"
             ],
             [
              0.5555555555555556,
              "#d8576b"
             ],
             [
              0.6666666666666666,
              "#ed7953"
             ],
             [
              0.7777777777777778,
              "#fb9f3a"
             ],
             [
              0.8888888888888888,
              "#fdca26"
             ],
             [
              1,
              "#f0f921"
             ]
            ],
            "type": "histogram2d"
           }
          ],
          "histogram2dcontour": [
           {
            "colorbar": {
             "outlinewidth": 0,
             "ticks": ""
            },
            "colorscale": [
             [
              0,
              "#0d0887"
             ],
             [
              0.1111111111111111,
              "#46039f"
             ],
             [
              0.2222222222222222,
              "#7201a8"
             ],
             [
              0.3333333333333333,
              "#9c179e"
             ],
             [
              0.4444444444444444,
              "#bd3786"
             ],
             [
              0.5555555555555556,
              "#d8576b"
             ],
             [
              0.6666666666666666,
              "#ed7953"
             ],
             [
              0.7777777777777778,
              "#fb9f3a"
             ],
             [
              0.8888888888888888,
              "#fdca26"
             ],
             [
              1,
              "#f0f921"
             ]
            ],
            "type": "histogram2dcontour"
           }
          ],
          "mesh3d": [
           {
            "colorbar": {
             "outlinewidth": 0,
             "ticks": ""
            },
            "type": "mesh3d"
           }
          ],
          "parcoords": [
           {
            "line": {
             "colorbar": {
              "outlinewidth": 0,
              "ticks": ""
             }
            },
            "type": "parcoords"
           }
          ],
          "pie": [
           {
            "automargin": true,
            "type": "pie"
           }
          ],
          "scatter": [
           {
            "marker": {
             "colorbar": {
              "outlinewidth": 0,
              "ticks": ""
             }
            },
            "type": "scatter"
           }
          ],
          "scatter3d": [
           {
            "line": {
             "colorbar": {
              "outlinewidth": 0,
              "ticks": ""
             }
            },
            "marker": {
             "colorbar": {
              "outlinewidth": 0,
              "ticks": ""
             }
            },
            "type": "scatter3d"
           }
          ],
          "scattercarpet": [
           {
            "marker": {
             "colorbar": {
              "outlinewidth": 0,
              "ticks": ""
             }
            },
            "type": "scattercarpet"
           }
          ],
          "scattergeo": [
           {
            "marker": {
             "colorbar": {
              "outlinewidth": 0,
              "ticks": ""
             }
            },
            "type": "scattergeo"
           }
          ],
          "scattergl": [
           {
            "marker": {
             "colorbar": {
              "outlinewidth": 0,
              "ticks": ""
             }
            },
            "type": "scattergl"
           }
          ],
          "scattermapbox": [
           {
            "marker": {
             "colorbar": {
              "outlinewidth": 0,
              "ticks": ""
             }
            },
            "type": "scattermapbox"
           }
          ],
          "scatterpolar": [
           {
            "marker": {
             "colorbar": {
              "outlinewidth": 0,
              "ticks": ""
             }
            },
            "type": "scatterpolar"
           }
          ],
          "scatterpolargl": [
           {
            "marker": {
             "colorbar": {
              "outlinewidth": 0,
              "ticks": ""
             }
            },
            "type": "scatterpolargl"
           }
          ],
          "scatterternary": [
           {
            "marker": {
             "colorbar": {
              "outlinewidth": 0,
              "ticks": ""
             }
            },
            "type": "scatterternary"
           }
          ],
          "surface": [
           {
            "colorbar": {
             "outlinewidth": 0,
             "ticks": ""
            },
            "colorscale": [
             [
              0,
              "#0d0887"
             ],
             [
              0.1111111111111111,
              "#46039f"
             ],
             [
              0.2222222222222222,
              "#7201a8"
             ],
             [
              0.3333333333333333,
              "#9c179e"
             ],
             [
              0.4444444444444444,
              "#bd3786"
             ],
             [
              0.5555555555555556,
              "#d8576b"
             ],
             [
              0.6666666666666666,
              "#ed7953"
             ],
             [
              0.7777777777777778,
              "#fb9f3a"
             ],
             [
              0.8888888888888888,
              "#fdca26"
             ],
             [
              1,
              "#f0f921"
             ]
            ],
            "type": "surface"
           }
          ],
          "table": [
           {
            "cells": {
             "fill": {
              "color": "#EBF0F8"
             },
             "line": {
              "color": "white"
             }
            },
            "header": {
             "fill": {
              "color": "#C8D4E3"
             },
             "line": {
              "color": "white"
             }
            },
            "type": "table"
           }
          ]
         },
         "layout": {
          "annotationdefaults": {
           "arrowcolor": "#2a3f5f",
           "arrowhead": 0,
           "arrowwidth": 1
          },
          "autotypenumbers": "strict",
          "coloraxis": {
           "colorbar": {
            "outlinewidth": 0,
            "ticks": ""
           }
          },
          "colorscale": {
           "diverging": [
            [
             0,
             "#8e0152"
            ],
            [
             0.1,
             "#c51b7d"
            ],
            [
             0.2,
             "#de77ae"
            ],
            [
             0.3,
             "#f1b6da"
            ],
            [
             0.4,
             "#fde0ef"
            ],
            [
             0.5,
             "#f7f7f7"
            ],
            [
             0.6,
             "#e6f5d0"
            ],
            [
             0.7,
             "#b8e186"
            ],
            [
             0.8,
             "#7fbc41"
            ],
            [
             0.9,
             "#4d9221"
            ],
            [
             1,
             "#276419"
            ]
           ],
           "sequential": [
            [
             0,
             "#0d0887"
            ],
            [
             0.1111111111111111,
             "#46039f"
            ],
            [
             0.2222222222222222,
             "#7201a8"
            ],
            [
             0.3333333333333333,
             "#9c179e"
            ],
            [
             0.4444444444444444,
             "#bd3786"
            ],
            [
             0.5555555555555556,
             "#d8576b"
            ],
            [
             0.6666666666666666,
             "#ed7953"
            ],
            [
             0.7777777777777778,
             "#fb9f3a"
            ],
            [
             0.8888888888888888,
             "#fdca26"
            ],
            [
             1,
             "#f0f921"
            ]
           ],
           "sequentialminus": [
            [
             0,
             "#0d0887"
            ],
            [
             0.1111111111111111,
             "#46039f"
            ],
            [
             0.2222222222222222,
             "#7201a8"
            ],
            [
             0.3333333333333333,
             "#9c179e"
            ],
            [
             0.4444444444444444,
             "#bd3786"
            ],
            [
             0.5555555555555556,
             "#d8576b"
            ],
            [
             0.6666666666666666,
             "#ed7953"
            ],
            [
             0.7777777777777778,
             "#fb9f3a"
            ],
            [
             0.8888888888888888,
             "#fdca26"
            ],
            [
             1,
             "#f0f921"
            ]
           ]
          },
          "colorway": [
           "#636efa",
           "#EF553B",
           "#00cc96",
           "#ab63fa",
           "#FFA15A",
           "#19d3f3",
           "#FF6692",
           "#B6E880",
           "#FF97FF",
           "#FECB52"
          ],
          "font": {
           "color": "#2a3f5f"
          },
          "geo": {
           "bgcolor": "white",
           "lakecolor": "white",
           "landcolor": "#E5ECF6",
           "showlakes": true,
           "showland": true,
           "subunitcolor": "white"
          },
          "hoverlabel": {
           "align": "left"
          },
          "hovermode": "closest",
          "mapbox": {
           "style": "light"
          },
          "paper_bgcolor": "white",
          "plot_bgcolor": "#E5ECF6",
          "polar": {
           "angularaxis": {
            "gridcolor": "white",
            "linecolor": "white",
            "ticks": ""
           },
           "bgcolor": "#E5ECF6",
           "radialaxis": {
            "gridcolor": "white",
            "linecolor": "white",
            "ticks": ""
           }
          },
          "scene": {
           "xaxis": {
            "backgroundcolor": "#E5ECF6",
            "gridcolor": "white",
            "gridwidth": 2,
            "linecolor": "white",
            "showbackground": true,
            "ticks": "",
            "zerolinecolor": "white"
           },
           "yaxis": {
            "backgroundcolor": "#E5ECF6",
            "gridcolor": "white",
            "gridwidth": 2,
            "linecolor": "white",
            "showbackground": true,
            "ticks": "",
            "zerolinecolor": "white"
           },
           "zaxis": {
            "backgroundcolor": "#E5ECF6",
            "gridcolor": "white",
            "gridwidth": 2,
            "linecolor": "white",
            "showbackground": true,
            "ticks": "",
            "zerolinecolor": "white"
           }
          },
          "shapedefaults": {
           "line": {
            "color": "#2a3f5f"
           }
          },
          "ternary": {
           "aaxis": {
            "gridcolor": "white",
            "linecolor": "white",
            "ticks": ""
           },
           "baxis": {
            "gridcolor": "white",
            "linecolor": "white",
            "ticks": ""
           },
           "bgcolor": "#E5ECF6",
           "caxis": {
            "gridcolor": "white",
            "linecolor": "white",
            "ticks": ""
           }
          },
          "title": {
           "x": 0.05
          },
          "xaxis": {
           "automargin": true,
           "gridcolor": "white",
           "linecolor": "white",
           "ticks": "",
           "title": {
            "standoff": 15
           },
           "zerolinecolor": "white",
           "zerolinewidth": 2
          },
          "yaxis": {
           "automargin": true,
           "gridcolor": "white",
           "linecolor": "white",
           "ticks": "",
           "title": {
            "standoff": 15
           },
           "zerolinecolor": "white",
           "zerolinewidth": 2
          }
         }
        },
        "title": {
         "text": "Variant 1"
        },
        "xaxis": {
         "anchor": "y",
         "domain": [
          0,
          0.235
         ]
        },
        "xaxis2": {
         "anchor": "y2",
         "domain": [
          0.255,
          0.49
         ],
         "matches": "x"
        },
        "xaxis3": {
         "anchor": "y3",
         "domain": [
          0.51,
          0.745
         ],
         "matches": "x"
        },
        "xaxis4": {
         "anchor": "y4",
         "domain": [
          0.7649999999999999,
          0.9999999999999999
         ],
         "matches": "x"
        },
        "yaxis": {
         "anchor": "x",
         "domain": [
          0,
          1
         ],
         "title": {
          "text": "value"
         }
        },
        "yaxis2": {
         "anchor": "x2",
         "domain": [
          0,
          1
         ],
         "matches": "y",
         "showticklabels": false
        },
        "yaxis3": {
         "anchor": "x3",
         "domain": [
          0,
          1
         ],
         "matches": "y",
         "showticklabels": false
        },
        "yaxis4": {
         "anchor": "x4",
         "domain": [
          0,
          1
         ],
         "matches": "y",
         "showticklabels": false
        }
       }
      }
     },
     "metadata": {},
     "output_type": "display_data"
    },
    {
     "data": {
      "application/vnd.plotly.v1+json": {
       "config": {
        "plotlyServerURL": "https://plot.ly"
       },
       "data": [
        {
         "alignmentgroup": "True",
         "hovertemplate": "=naif_solution<br>value=%{y}<extra></extra>",
         "legendgroup": "naif_solution",
         "marker": {
          "color": "#636efa"
         },
         "name": "naif_solution",
         "notched": false,
         "offsetgroup": "naif_solution",
         "orientation": "v",
         "showlegend": true,
         "type": "box",
         "x0": " ",
         "xaxis": "x",
         "y": [
          0.25982457,
          0.2317027,
          0.28702709,
          0.28512395,
          0.26225522,
          0.2426176,
          0.17432592,
          0.24856478,
          0.23071938,
          0.27273085,
          0.26768046,
          0.21938532,
          0.16952614,
          0.26836976,
          0.30554289,
          0.11530961,
          0.1496972,
          0.2470722,
          0.20739559,
          0.2744965,
          0.26362299,
          0.16972841,
          0.19367895,
          0.23310486,
          0.27845575,
          0.1984081,
          0.21124647,
          0.27283372,
          0.25193769,
          0.15568912,
          0.24672915,
          0.22212364,
          0.06080911,
          0.21125234,
          0.27821786,
          0.20215059,
          0.25378327,
          0.12327614,
          0.2577853,
          0.12857685,
          0.16241427,
          0.27535319,
          0.30118773,
          0.29757706,
          0.25395089,
          0.21619686,
          0.19821141,
          0.28816065,
          0.23883457,
          0.20894602,
          0.2501778,
          0.23472047,
          0.28147928,
          0.19286485,
          0.2508899,
          0.1539891,
          0.23340088,
          0.27860857,
          0.19405637,
          0.21606341,
          0.20183067,
          0.21641741,
          0.25283923,
          0.2389642,
          0.24367785,
          0.23546473,
          0.22227006,
          0.18168604,
          0.25154883,
          0.21658839,
          0.26171997,
          0.30473755,
          0.29460582,
          0.25465667,
          0.21611811,
          0.1973267,
          0.19847499,
          0.1298032,
          0.26755896,
          0.23460477,
          0.29223187,
          0.17877774,
          0.23656371,
          0.2859351,
          0.24934731,
          0.23392259,
          0.18372885,
          0.24769241,
          0.13359945,
          0.27395992,
          0.30759425,
          0.19411216,
          0.23367062,
          0.21765637,
          0.24359871,
          0.20096909,
          0.21248819,
          0.2760955,
          0.21885593,
          0.13741501
         ],
         "y0": " ",
         "yaxis": "y"
        },
        {
         "alignmentgroup": "True",
         "hovertemplate": "=naif_solution_alpha_known<br>value=%{y}<extra></extra>",
         "legendgroup": "naif_solution_alpha_known",
         "marker": {
          "color": "#EF553B"
         },
         "name": "naif_solution_alpha_known",
         "notched": false,
         "offsetgroup": "naif_solution_alpha_known",
         "orientation": "v",
         "showlegend": true,
         "type": "box",
         "x0": " ",
         "xaxis": "x2",
         "y": [
          0.0479442,
          0.05801533,
          0.04883021,
          0.05615886,
          0.05130789,
          0.06664736,
          0.06325985,
          0.04300518,
          0.05327506,
          0.04092089,
          0.0639156,
          0.0738976,
          0.01156351,
          0.03031008,
          0.07628039,
          0.02615375,
          0.05801259,
          0.06360037,
          0.02265945,
          0.02156852,
          0.06603818,
          0.04538144,
          0.04142115,
          0.04370802,
          0.03540989,
          0.0131459,
          0.04260584,
          0.04875809,
          0.02185124,
          0.06554484,
          0.04763653,
          0.04451581,
          0.05180233,
          0.04216756,
          0.04184508,
          0.05412388,
          0.03431908,
          0.08649491,
          0.05514229,
          0.00270986,
          0.05677002,
          0.05263839,
          0.0390711,
          0.02928272,
          0.09392361,
          0.04379337,
          0.03239827,
          0.06086357,
          0.05633382,
          0.05247944,
          0.04356809,
          0.04277994,
          0.05977731,
          0.07288945,
          0.04376665,
          0.02322744,
          0.06885562,
          0.04961795,
          0.0320969,
          0.06616111,
          0.04506086,
          0.05306175,
          0.04170698,
          0.02326599,
          0.04116917,
          0.06109615,
          0.05036145,
          0.06270315,
          0.05948637,
          0.05287747,
          0.03911216,
          0.04595689,
          0.05778803,
          0.05656894,
          0.04517907,
          0.06692878,
          0.06706693,
          0.01818895,
          0.03693303,
          0.05116258,
          0.05251153,
          0.05949734,
          0.0549895,
          0.05627868,
          0.05342535,
          0.08920759,
          0.05661733,
          0.055854,
          0.04139873,
          0.04571931,
          0.05408036,
          0.06115308,
          0.05865797,
          0.01446133,
          0.06366676,
          0.05517249,
          0.05616511,
          0.04529866,
          0.06961852,
          0.0570157
         ],
         "y0": " ",
         "yaxis": "y2"
        },
        {
         "alignmentgroup": "True",
         "hovertemplate": "=EM_solution_alpha_known<br>value=%{y}<extra></extra>",
         "legendgroup": "EM_solution_alpha_known",
         "marker": {
          "color": "#00cc96"
         },
         "name": "EM_solution_alpha_known",
         "notched": false,
         "offsetgroup": "EM_solution_alpha_known",
         "orientation": "v",
         "showlegend": true,
         "type": "box",
         "x0": " ",
         "xaxis": "x3",
         "y": [
          0.05171382,
          0.0609611,
          0.05301952,
          0.0646553,
          0.05267009,
          0.05051103,
          0.0671856,
          0.04481044,
          0.06374131,
          0.03939987,
          0.05188438,
          0.06777075,
          0.02567952,
          0.04055047,
          0.06777584,
          0.0445897,
          0.05171923,
          0.06260705,
          0.03301692,
          0.0469609,
          0.05624471,
          0.05473054,
          0.05261286,
          0.04822756,
          0.04997791,
          0.02319873,
          0.04217326,
          0.0547008,
          0.05042438,
          0.07883128,
          0.05330821,
          0.04839446,
          0.06913326,
          0.05474196,
          0.04554131,
          0.04984982,
          0.03547958,
          0.06273797,
          0.05143698,
          0.0327883,
          0.0582915,
          0.06237437,
          0.04345206,
          0.03689253,
          0.08655686,
          0.05374391,
          0.04155698,
          0.06751382,
          0.05882832,
          0.05641939,
          0.04741171,
          0.04466903,
          0.05713823,
          0.0778695,
          0.04329231,
          0.03612199,
          0.06222109,
          0.04157189,
          0.03902133,
          0.06535871,
          0.05199919,
          0.05143208,
          0.06384342,
          0.03033329,
          0.05328771,
          0.06318297,
          0.05207936,
          0.06974514,
          0.06784286,
          0.05910823,
          0.04800395,
          0.04698554,
          0.05479294,
          0.04992268,
          0.05102675,
          0.05769944,
          0.06571745,
          0.03539459,
          0.04120148,
          0.05838242,
          0.05584893,
          0.04643428,
          0.06265633,
          0.05406179,
          0.0568023,
          0.09092513,
          0.05590901,
          0.04910535,
          0.04631963,
          0.03896716,
          0.0418201,
          0.05510341,
          0.07777218,
          0.02679615,
          0.05507909,
          0.05580253,
          0.07292138,
          0.03708986,
          0.06789287,
          0.06923185
         ],
         "y0": " ",
         "yaxis": "y3"
        },
        {
         "alignmentgroup": "True",
         "hovertemplate": "=EM_solution<br>value=%{y}<extra></extra>",
         "legendgroup": "EM_solution",
         "marker": {
          "color": "#ab63fa"
         },
         "name": "EM_solution",
         "notched": false,
         "offsetgroup": "EM_solution",
         "orientation": "v",
         "showlegend": true,
         "type": "box",
         "x0": " ",
         "xaxis": "x4",
         "y": [
          0.04991013,
          0.06065145,
          0.05176828,
          0.06512408,
          0.05175477,
          0.05008202,
          0.0668816,
          0.04378246,
          0.06440088,
          0.03738416,
          0.05356913,
          0.0687734,
          0.02551962,
          0.04200351,
          0.06859023,
          0.04484443,
          0.05082388,
          0.06153587,
          0.03409831,
          0.04836567,
          0.05427164,
          0.05650813,
          0.05325598,
          0.04773761,
          0.05027825,
          0.0231175,
          0.04187484,
          0.05512208,
          0.04940505,
          0.07812381,
          0.0527226,
          0.04627874,
          0.06842569,
          0.05850996,
          0.0490936,
          0.04849097,
          0.03536159,
          0.06153223,
          0.05023615,
          0.03199488,
          0.05701149,
          0.0669981,
          0.04460611,
          0.03559386,
          0.08723394,
          0.05360915,
          0.04079169,
          0.06570636,
          0.05943076,
          0.0580312,
          0.04522057,
          0.04385342,
          0.05816971,
          0.07731351,
          0.04428414,
          0.03415261,
          0.06063794,
          0.04182324,
          0.03803225,
          0.06597248,
          0.05107383,
          0.05045546,
          0.06580014,
          0.03154571,
          0.04976946,
          0.06291976,
          0.05094242,
          0.07070811,
          0.06839109,
          0.05941586,
          0.04880489,
          0.04644432,
          0.05321092,
          0.05259954,
          0.05067603,
          0.05937942,
          0.06618594,
          0.03405641,
          0.04419674,
          0.05760364,
          0.05479303,
          0.04747149,
          0.06240582,
          0.05794325,
          0.05616358,
          0.08921258,
          0.05903352,
          0.04976347,
          0.04566861,
          0.03645571,
          0.03986595,
          0.05703557,
          0.07858512,
          0.02438935,
          0.05477712,
          0.05499084,
          0.07266356,
          0.03952587,
          0.06644338,
          0.07014305
         ],
         "y0": " ",
         "yaxis": "y4"
        },
        {
         "marker": {
          "color": "rgba(0, 0, 0, 1)",
          "line": {
           "width": 2
          },
          "size": 10,
          "symbol": 34
         },
         "mode": "markers",
         "name": "0.051 Real value",
         "type": "scatter",
         "xaxis": "x",
         "y": [
          0.05149473
         ],
         "yaxis": "y"
        },
        {
         "marker": {
          "color": "rgba(0, 0, 0, 1)",
          "line": {
           "width": 2
          },
          "size": 10,
          "symbol": 34
         },
         "mode": "markers",
         "name": "0.051 Real value",
         "type": "scatter",
         "xaxis": "x2",
         "y": [
          0.05149473
         ],
         "yaxis": "y2"
        },
        {
         "marker": {
          "color": "rgba(0, 0, 0, 1)",
          "line": {
           "width": 2
          },
          "size": 10,
          "symbol": 34
         },
         "mode": "markers",
         "name": "0.051 Real value",
         "type": "scatter",
         "xaxis": "x3",
         "y": [
          0.05149473
         ],
         "yaxis": "y3"
        },
        {
         "marker": {
          "color": "rgba(0, 0, 0, 1)",
          "line": {
           "width": 2
          },
          "size": 10,
          "symbol": 34
         },
         "mode": "markers",
         "name": "0.051 Real value",
         "type": "scatter",
         "xaxis": "x4",
         "y": [
          0.05149473
         ],
         "yaxis": "y4"
        }
       ],
       "layout": {
        "annotations": [
         {
          "font": {},
          "showarrow": false,
          "text": "=naif_solution",
          "x": 0.1175,
          "xanchor": "center",
          "xref": "paper",
          "y": 1,
          "yanchor": "bottom",
          "yref": "paper"
         },
         {
          "font": {},
          "showarrow": false,
          "text": "=naif_solution_alpha_known",
          "x": 0.3725,
          "xanchor": "center",
          "xref": "paper",
          "y": 1,
          "yanchor": "bottom",
          "yref": "paper"
         },
         {
          "font": {},
          "showarrow": false,
          "text": "=EM_solution_alpha_known",
          "x": 0.6275,
          "xanchor": "center",
          "xref": "paper",
          "y": 1,
          "yanchor": "bottom",
          "yref": "paper"
         },
         {
          "font": {},
          "showarrow": false,
          "text": "=EM_solution",
          "x": 0.8824999999999998,
          "xanchor": "center",
          "xref": "paper",
          "y": 1,
          "yanchor": "bottom",
          "yref": "paper"
         }
        ],
        "boxmode": "overlay",
        "legend": {
         "title": {
          "text": ""
         },
         "tracegroupgap": 0
        },
        "template": {
         "data": {
          "bar": [
           {
            "error_x": {
             "color": "#2a3f5f"
            },
            "error_y": {
             "color": "#2a3f5f"
            },
            "marker": {
             "line": {
              "color": "#E5ECF6",
              "width": 0.5
             }
            },
            "type": "bar"
           }
          ],
          "barpolar": [
           {
            "marker": {
             "line": {
              "color": "#E5ECF6",
              "width": 0.5
             }
            },
            "type": "barpolar"
           }
          ],
          "carpet": [
           {
            "aaxis": {
             "endlinecolor": "#2a3f5f",
             "gridcolor": "white",
             "linecolor": "white",
             "minorgridcolor": "white",
             "startlinecolor": "#2a3f5f"
            },
            "baxis": {
             "endlinecolor": "#2a3f5f",
             "gridcolor": "white",
             "linecolor": "white",
             "minorgridcolor": "white",
             "startlinecolor": "#2a3f5f"
            },
            "type": "carpet"
           }
          ],
          "choropleth": [
           {
            "colorbar": {
             "outlinewidth": 0,
             "ticks": ""
            },
            "type": "choropleth"
           }
          ],
          "contour": [
           {
            "colorbar": {
             "outlinewidth": 0,
             "ticks": ""
            },
            "colorscale": [
             [
              0,
              "#0d0887"
             ],
             [
              0.1111111111111111,
              "#46039f"
             ],
             [
              0.2222222222222222,
              "#7201a8"
             ],
             [
              0.3333333333333333,
              "#9c179e"
             ],
             [
              0.4444444444444444,
              "#bd3786"
             ],
             [
              0.5555555555555556,
              "#d8576b"
             ],
             [
              0.6666666666666666,
              "#ed7953"
             ],
             [
              0.7777777777777778,
              "#fb9f3a"
             ],
             [
              0.8888888888888888,
              "#fdca26"
             ],
             [
              1,
              "#f0f921"
             ]
            ],
            "type": "contour"
           }
          ],
          "contourcarpet": [
           {
            "colorbar": {
             "outlinewidth": 0,
             "ticks": ""
            },
            "type": "contourcarpet"
           }
          ],
          "heatmap": [
           {
            "colorbar": {
             "outlinewidth": 0,
             "ticks": ""
            },
            "colorscale": [
             [
              0,
              "#0d0887"
             ],
             [
              0.1111111111111111,
              "#46039f"
             ],
             [
              0.2222222222222222,
              "#7201a8"
             ],
             [
              0.3333333333333333,
              "#9c179e"
             ],
             [
              0.4444444444444444,
              "#bd3786"
             ],
             [
              0.5555555555555556,
              "#d8576b"
             ],
             [
              0.6666666666666666,
              "#ed7953"
             ],
             [
              0.7777777777777778,
              "#fb9f3a"
             ],
             [
              0.8888888888888888,
              "#fdca26"
             ],
             [
              1,
              "#f0f921"
             ]
            ],
            "type": "heatmap"
           }
          ],
          "heatmapgl": [
           {
            "colorbar": {
             "outlinewidth": 0,
             "ticks": ""
            },
            "colorscale": [
             [
              0,
              "#0d0887"
             ],
             [
              0.1111111111111111,
              "#46039f"
             ],
             [
              0.2222222222222222,
              "#7201a8"
             ],
             [
              0.3333333333333333,
              "#9c179e"
             ],
             [
              0.4444444444444444,
              "#bd3786"
             ],
             [
              0.5555555555555556,
              "#d8576b"
             ],
             [
              0.6666666666666666,
              "#ed7953"
             ],
             [
              0.7777777777777778,
              "#fb9f3a"
             ],
             [
              0.8888888888888888,
              "#fdca26"
             ],
             [
              1,
              "#f0f921"
             ]
            ],
            "type": "heatmapgl"
           }
          ],
          "histogram": [
           {
            "marker": {
             "colorbar": {
              "outlinewidth": 0,
              "ticks": ""
             }
            },
            "type": "histogram"
           }
          ],
          "histogram2d": [
           {
            "colorbar": {
             "outlinewidth": 0,
             "ticks": ""
            },
            "colorscale": [
             [
              0,
              "#0d0887"
             ],
             [
              0.1111111111111111,
              "#46039f"
             ],
             [
              0.2222222222222222,
              "#7201a8"
             ],
             [
              0.3333333333333333,
              "#9c179e"
             ],
             [
              0.4444444444444444,
              "#bd3786"
             ],
             [
              0.5555555555555556,
              "#d8576b"
             ],
             [
              0.6666666666666666,
              "#ed7953"
             ],
             [
              0.7777777777777778,
              "#fb9f3a"
             ],
             [
              0.8888888888888888,
              "#fdca26"
             ],
             [
              1,
              "#f0f921"
             ]
            ],
            "type": "histogram2d"
           }
          ],
          "histogram2dcontour": [
           {
            "colorbar": {
             "outlinewidth": 0,
             "ticks": ""
            },
            "colorscale": [
             [
              0,
              "#0d0887"
             ],
             [
              0.1111111111111111,
              "#46039f"
             ],
             [
              0.2222222222222222,
              "#7201a8"
             ],
             [
              0.3333333333333333,
              "#9c179e"
             ],
             [
              0.4444444444444444,
              "#bd3786"
             ],
             [
              0.5555555555555556,
              "#d8576b"
             ],
             [
              0.6666666666666666,
              "#ed7953"
             ],
             [
              0.7777777777777778,
              "#fb9f3a"
             ],
             [
              0.8888888888888888,
              "#fdca26"
             ],
             [
              1,
              "#f0f921"
             ]
            ],
            "type": "histogram2dcontour"
           }
          ],
          "mesh3d": [
           {
            "colorbar": {
             "outlinewidth": 0,
             "ticks": ""
            },
            "type": "mesh3d"
           }
          ],
          "parcoords": [
           {
            "line": {
             "colorbar": {
              "outlinewidth": 0,
              "ticks": ""
             }
            },
            "type": "parcoords"
           }
          ],
          "pie": [
           {
            "automargin": true,
            "type": "pie"
           }
          ],
          "scatter": [
           {
            "marker": {
             "colorbar": {
              "outlinewidth": 0,
              "ticks": ""
             }
            },
            "type": "scatter"
           }
          ],
          "scatter3d": [
           {
            "line": {
             "colorbar": {
              "outlinewidth": 0,
              "ticks": ""
             }
            },
            "marker": {
             "colorbar": {
              "outlinewidth": 0,
              "ticks": ""
             }
            },
            "type": "scatter3d"
           }
          ],
          "scattercarpet": [
           {
            "marker": {
             "colorbar": {
              "outlinewidth": 0,
              "ticks": ""
             }
            },
            "type": "scattercarpet"
           }
          ],
          "scattergeo": [
           {
            "marker": {
             "colorbar": {
              "outlinewidth": 0,
              "ticks": ""
             }
            },
            "type": "scattergeo"
           }
          ],
          "scattergl": [
           {
            "marker": {
             "colorbar": {
              "outlinewidth": 0,
              "ticks": ""
             }
            },
            "type": "scattergl"
           }
          ],
          "scattermapbox": [
           {
            "marker": {
             "colorbar": {
              "outlinewidth": 0,
              "ticks": ""
             }
            },
            "type": "scattermapbox"
           }
          ],
          "scatterpolar": [
           {
            "marker": {
             "colorbar": {
              "outlinewidth": 0,
              "ticks": ""
             }
            },
            "type": "scatterpolar"
           }
          ],
          "scatterpolargl": [
           {
            "marker": {
             "colorbar": {
              "outlinewidth": 0,
              "ticks": ""
             }
            },
            "type": "scatterpolargl"
           }
          ],
          "scatterternary": [
           {
            "marker": {
             "colorbar": {
              "outlinewidth": 0,
              "ticks": ""
             }
            },
            "type": "scatterternary"
           }
          ],
          "surface": [
           {
            "colorbar": {
             "outlinewidth": 0,
             "ticks": ""
            },
            "colorscale": [
             [
              0,
              "#0d0887"
             ],
             [
              0.1111111111111111,
              "#46039f"
             ],
             [
              0.2222222222222222,
              "#7201a8"
             ],
             [
              0.3333333333333333,
              "#9c179e"
             ],
             [
              0.4444444444444444,
              "#bd3786"
             ],
             [
              0.5555555555555556,
              "#d8576b"
             ],
             [
              0.6666666666666666,
              "#ed7953"
             ],
             [
              0.7777777777777778,
              "#fb9f3a"
             ],
             [
              0.8888888888888888,
              "#fdca26"
             ],
             [
              1,
              "#f0f921"
             ]
            ],
            "type": "surface"
           }
          ],
          "table": [
           {
            "cells": {
             "fill": {
              "color": "#EBF0F8"
             },
             "line": {
              "color": "white"
             }
            },
            "header": {
             "fill": {
              "color": "#C8D4E3"
             },
             "line": {
              "color": "white"
             }
            },
            "type": "table"
           }
          ]
         },
         "layout": {
          "annotationdefaults": {
           "arrowcolor": "#2a3f5f",
           "arrowhead": 0,
           "arrowwidth": 1
          },
          "autotypenumbers": "strict",
          "coloraxis": {
           "colorbar": {
            "outlinewidth": 0,
            "ticks": ""
           }
          },
          "colorscale": {
           "diverging": [
            [
             0,
             "#8e0152"
            ],
            [
             0.1,
             "#c51b7d"
            ],
            [
             0.2,
             "#de77ae"
            ],
            [
             0.3,
             "#f1b6da"
            ],
            [
             0.4,
             "#fde0ef"
            ],
            [
             0.5,
             "#f7f7f7"
            ],
            [
             0.6,
             "#e6f5d0"
            ],
            [
             0.7,
             "#b8e186"
            ],
            [
             0.8,
             "#7fbc41"
            ],
            [
             0.9,
             "#4d9221"
            ],
            [
             1,
             "#276419"
            ]
           ],
           "sequential": [
            [
             0,
             "#0d0887"
            ],
            [
             0.1111111111111111,
             "#46039f"
            ],
            [
             0.2222222222222222,
             "#7201a8"
            ],
            [
             0.3333333333333333,
             "#9c179e"
            ],
            [
             0.4444444444444444,
             "#bd3786"
            ],
            [
             0.5555555555555556,
             "#d8576b"
            ],
            [
             0.6666666666666666,
             "#ed7953"
            ],
            [
             0.7777777777777778,
             "#fb9f3a"
            ],
            [
             0.8888888888888888,
             "#fdca26"
            ],
            [
             1,
             "#f0f921"
            ]
           ],
           "sequentialminus": [
            [
             0,
             "#0d0887"
            ],
            [
             0.1111111111111111,
             "#46039f"
            ],
            [
             0.2222222222222222,
             "#7201a8"
            ],
            [
             0.3333333333333333,
             "#9c179e"
            ],
            [
             0.4444444444444444,
             "#bd3786"
            ],
            [
             0.5555555555555556,
             "#d8576b"
            ],
            [
             0.6666666666666666,
             "#ed7953"
            ],
            [
             0.7777777777777778,
             "#fb9f3a"
            ],
            [
             0.8888888888888888,
             "#fdca26"
            ],
            [
             1,
             "#f0f921"
            ]
           ]
          },
          "colorway": [
           "#636efa",
           "#EF553B",
           "#00cc96",
           "#ab63fa",
           "#FFA15A",
           "#19d3f3",
           "#FF6692",
           "#B6E880",
           "#FF97FF",
           "#FECB52"
          ],
          "font": {
           "color": "#2a3f5f"
          },
          "geo": {
           "bgcolor": "white",
           "lakecolor": "white",
           "landcolor": "#E5ECF6",
           "showlakes": true,
           "showland": true,
           "subunitcolor": "white"
          },
          "hoverlabel": {
           "align": "left"
          },
          "hovermode": "closest",
          "mapbox": {
           "style": "light"
          },
          "paper_bgcolor": "white",
          "plot_bgcolor": "#E5ECF6",
          "polar": {
           "angularaxis": {
            "gridcolor": "white",
            "linecolor": "white",
            "ticks": ""
           },
           "bgcolor": "#E5ECF6",
           "radialaxis": {
            "gridcolor": "white",
            "linecolor": "white",
            "ticks": ""
           }
          },
          "scene": {
           "xaxis": {
            "backgroundcolor": "#E5ECF6",
            "gridcolor": "white",
            "gridwidth": 2,
            "linecolor": "white",
            "showbackground": true,
            "ticks": "",
            "zerolinecolor": "white"
           },
           "yaxis": {
            "backgroundcolor": "#E5ECF6",
            "gridcolor": "white",
            "gridwidth": 2,
            "linecolor": "white",
            "showbackground": true,
            "ticks": "",
            "zerolinecolor": "white"
           },
           "zaxis": {
            "backgroundcolor": "#E5ECF6",
            "gridcolor": "white",
            "gridwidth": 2,
            "linecolor": "white",
            "showbackground": true,
            "ticks": "",
            "zerolinecolor": "white"
           }
          },
          "shapedefaults": {
           "line": {
            "color": "#2a3f5f"
           }
          },
          "ternary": {
           "aaxis": {
            "gridcolor": "white",
            "linecolor": "white",
            "ticks": ""
           },
           "baxis": {
            "gridcolor": "white",
            "linecolor": "white",
            "ticks": ""
           },
           "bgcolor": "#E5ECF6",
           "caxis": {
            "gridcolor": "white",
            "linecolor": "white",
            "ticks": ""
           }
          },
          "title": {
           "x": 0.05
          },
          "xaxis": {
           "automargin": true,
           "gridcolor": "white",
           "linecolor": "white",
           "ticks": "",
           "title": {
            "standoff": 15
           },
           "zerolinecolor": "white",
           "zerolinewidth": 2
          },
          "yaxis": {
           "automargin": true,
           "gridcolor": "white",
           "linecolor": "white",
           "ticks": "",
           "title": {
            "standoff": 15
           },
           "zerolinecolor": "white",
           "zerolinewidth": 2
          }
         }
        },
        "title": {
         "text": "Variant 2"
        },
        "xaxis": {
         "anchor": "y",
         "domain": [
          0,
          0.235
         ]
        },
        "xaxis2": {
         "anchor": "y2",
         "domain": [
          0.255,
          0.49
         ],
         "matches": "x"
        },
        "xaxis3": {
         "anchor": "y3",
         "domain": [
          0.51,
          0.745
         ],
         "matches": "x"
        },
        "xaxis4": {
         "anchor": "y4",
         "domain": [
          0.7649999999999999,
          0.9999999999999999
         ],
         "matches": "x"
        },
        "yaxis": {
         "anchor": "x",
         "domain": [
          0,
          1
         ],
         "title": {
          "text": "value"
         }
        },
        "yaxis2": {
         "anchor": "x2",
         "domain": [
          0,
          1
         ],
         "matches": "y",
         "showticklabels": false
        },
        "yaxis3": {
         "anchor": "x3",
         "domain": [
          0,
          1
         ],
         "matches": "y",
         "showticklabels": false
        },
        "yaxis4": {
         "anchor": "x4",
         "domain": [
          0,
          1
         ],
         "matches": "y",
         "showticklabels": false
        }
       }
      }
     },
     "metadata": {},
     "output_type": "display_data"
    },
    {
     "data": {
      "application/vnd.plotly.v1+json": {
       "config": {
        "plotlyServerURL": "https://plot.ly"
       },
       "data": [
        {
         "alignmentgroup": "True",
         "hovertemplate": "=naif_solution<br>value=%{y}<extra></extra>",
         "legendgroup": "naif_solution",
         "marker": {
          "color": "#636efa"
         },
         "name": "naif_solution",
         "notched": false,
         "offsetgroup": "naif_solution",
         "orientation": "v",
         "showlegend": true,
         "type": "box",
         "x0": " ",
         "xaxis": "x",
         "y": [
          0.35936438,
          0.45473492,
          0.37184354,
          0.42220268,
          0.44638669,
          0.31291159,
          0.38445733,
          0.3997384,
          0.40544827,
          0.39814583,
          0.31228333,
          0.33673554,
          0.37617721,
          0.31723134,
          0.35218891,
          0.42671024,
          0.43327856,
          0.39893802,
          0.40436749,
          0.33856726,
          0.4192402,
          0.40810372,
          0.41692621,
          0.37258796,
          0.3496949,
          0.32995751,
          0.37501752,
          0.34908192,
          0.34162569,
          0.36130998,
          0.33270163,
          0.39548517,
          0.44385187,
          0.36373488,
          0.39499718,
          0.40569385,
          0.35077265,
          0.33222015,
          0.40626649,
          0.40752727,
          0.31971779,
          0.39762852,
          0.38012007,
          0.41707722,
          0.43323129,
          0.3336264,
          0.39293402,
          0.39898504,
          0.39985232,
          0.40424235,
          0.39009687,
          0.32934808,
          0.32211376,
          0.39096244,
          0.4045672,
          0.41293929,
          0.42103438,
          0.35339932,
          0.36101288,
          0.36749243,
          0.4027983,
          0.42990609,
          0.41379371,
          0.31432167,
          0.39883534,
          0.42981256,
          0.38667416,
          0.38204684,
          0.40871132,
          0.34125844,
          0.39623902,
          0.38868858,
          0.36631601,
          0.34687619,
          0.3757823,
          0.42500728,
          0.33394985,
          0.4319323,
          0.33951116,
          0.35562858,
          0.41140419,
          0.3971805,
          0.4204862,
          0.33099862,
          0.41573137,
          0.30901805,
          0.33808757,
          0.29268083,
          0.24357311,
          0.3438752,
          0.33198616,
          0.35864525,
          0.33919825,
          0.35506579,
          0.41635452,
          0.35711316,
          0.26814261,
          0.416048,
          0.39067757,
          0.397185
         ],
         "y0": " ",
         "yaxis": "y"
        },
        {
         "alignmentgroup": "True",
         "hovertemplate": "=naif_solution_alpha_known<br>value=%{y}<extra></extra>",
         "legendgroup": "naif_solution_alpha_known",
         "marker": {
          "color": "#EF553B"
         },
         "name": "naif_solution_alpha_known",
         "notched": false,
         "offsetgroup": "naif_solution_alpha_known",
         "orientation": "v",
         "showlegend": true,
         "type": "box",
         "x0": " ",
         "xaxis": "x2",
         "y": [
          0.46028101,
          0.42408992,
          0.43644305,
          0.43580831,
          0.45772443,
          0.39712374,
          0.45165514,
          0.45127929,
          0.41219778,
          0.44309043,
          0.42801257,
          0.46196797,
          0.45642034,
          0.46397818,
          0.42105008,
          0.45173524,
          0.42311577,
          0.43700787,
          0.43438502,
          0.45125193,
          0.45542029,
          0.43978323,
          0.43579925,
          0.43594354,
          0.42841397,
          0.42347996,
          0.43103013,
          0.47188502,
          0.45299604,
          0.43075196,
          0.44879622,
          0.48732989,
          0.42197947,
          0.44927222,
          0.40558189,
          0.45276336,
          0.44859374,
          0.46263556,
          0.46390654,
          0.44545147,
          0.42070006,
          0.41876507,
          0.45200567,
          0.43522502,
          0.44454912,
          0.43962709,
          0.45747067,
          0.41586001,
          0.40968034,
          0.43452351,
          0.43441144,
          0.43686573,
          0.44959588,
          0.42458137,
          0.40603539,
          0.4061019,
          0.44464244,
          0.43860605,
          0.42679357,
          0.41901916,
          0.44120277,
          0.42758526,
          0.40909366,
          0.42371626,
          0.47178965,
          0.46954153,
          0.46312394,
          0.42592284,
          0.44193706,
          0.40608917,
          0.42467962,
          0.44250953,
          0.42469195,
          0.42807802,
          0.42189025,
          0.43402791,
          0.4347845,
          0.47037009,
          0.43789867,
          0.40599754,
          0.43423542,
          0.4437727,
          0.41781017,
          0.44059379,
          0.42452472,
          0.44515483,
          0.4245509,
          0.40000224,
          0.42598984,
          0.43395513,
          0.46639648,
          0.45401852,
          0.42533808,
          0.47169932,
          0.47749139,
          0.43733179,
          0.44102365,
          0.43686833,
          0.42982971,
          0.44550588
         ],
         "y0": " ",
         "yaxis": "y2"
        },
        {
         "alignmentgroup": "True",
         "hovertemplate": "=EM_solution_alpha_known<br>value=%{y}<extra></extra>",
         "legendgroup": "EM_solution_alpha_known",
         "marker": {
          "color": "#00cc96"
         },
         "name": "EM_solution_alpha_known",
         "notched": false,
         "offsetgroup": "EM_solution_alpha_known",
         "orientation": "v",
         "showlegend": true,
         "type": "box",
         "x0": " ",
         "xaxis": "x3",
         "y": [
          0.4589883,
          0.42475447,
          0.42870639,
          0.43233044,
          0.45459121,
          0.40154512,
          0.44680422,
          0.43885831,
          0.41780077,
          0.44099848,
          0.404564,
          0.45841413,
          0.44659135,
          0.44928339,
          0.42680123,
          0.44395864,
          0.4303968,
          0.41484432,
          0.42378475,
          0.4263205,
          0.45141948,
          0.4329143,
          0.43362673,
          0.42564264,
          0.42066938,
          0.42138178,
          0.43933978,
          0.46815116,
          0.43508692,
          0.41959378,
          0.44328965,
          0.48291188,
          0.42136637,
          0.44202275,
          0.42540518,
          0.44995255,
          0.44650873,
          0.4542879,
          0.44963052,
          0.44203398,
          0.41066771,
          0.41418346,
          0.44550824,
          0.43416982,
          0.43922183,
          0.44112054,
          0.45087408,
          0.42102489,
          0.41447691,
          0.43975298,
          0.44299933,
          0.42999128,
          0.45135795,
          0.43400694,
          0.4039183,
          0.40798436,
          0.44131415,
          0.4330707,
          0.42354923,
          0.4190399,
          0.43488164,
          0.4331633,
          0.41554915,
          0.41724648,
          0.4499393,
          0.46468131,
          0.446051,
          0.42433311,
          0.4409492,
          0.41386762,
          0.42033944,
          0.44687111,
          0.42909253,
          0.43045328,
          0.42986837,
          0.43540344,
          0.42946568,
          0.46156701,
          0.43670233,
          0.40136335,
          0.43535744,
          0.447564,
          0.42144198,
          0.43422962,
          0.42205229,
          0.44152523,
          0.42229516,
          0.39704105,
          0.41507766,
          0.42531303,
          0.46052648,
          0.4557409,
          0.43341708,
          0.46825586,
          0.46781119,
          0.43389442,
          0.42829233,
          0.43808887,
          0.43116048,
          0.44013914
         ],
         "y0": " ",
         "yaxis": "y3"
        },
        {
         "alignmentgroup": "True",
         "hovertemplate": "=EM_solution<br>value=%{y}<extra></extra>",
         "legendgroup": "EM_solution",
         "marker": {
          "color": "#ab63fa"
         },
         "name": "EM_solution",
         "notched": false,
         "offsetgroup": "EM_solution",
         "orientation": "v",
         "showlegend": true,
         "type": "box",
         "x0": " ",
         "xaxis": "x4",
         "y": [
          0.46293839,
          0.425241,
          0.43073164,
          0.4320117,
          0.45612641,
          0.4022325,
          0.44734469,
          0.44055955,
          0.41666543,
          0.44423023,
          0.40205919,
          0.45644288,
          0.44611014,
          0.44663756,
          0.42521405,
          0.44183748,
          0.43168948,
          0.4162488,
          0.42133308,
          0.42483031,
          0.4552682,
          0.42817351,
          0.43275744,
          0.42656628,
          0.42044716,
          0.42116953,
          0.43970859,
          0.4665394,
          0.43671463,
          0.42080485,
          0.44486563,
          0.48706734,
          0.41982363,
          0.4356034,
          0.42048411,
          0.45222251,
          0.44760702,
          0.4539886,
          0.45281521,
          0.44225848,
          0.41013366,
          0.40845224,
          0.44441467,
          0.43595743,
          0.43791287,
          0.44100468,
          0.45240732,
          0.42385162,
          0.41431594,
          0.43675624,
          0.44680038,
          0.43182799,
          0.4498362,
          0.43324512,
          0.4030225,
          0.41027052,
          0.44510493,
          0.43280941,
          0.42415262,
          0.4175308,
          0.43650979,
          0.43438711,
          0.41291745,
          0.41493317,
          0.45679113,
          0.46289781,
          0.44845973,
          0.4203219,
          0.44017705,
          0.41192924,
          0.4189336,
          0.44811712,
          0.43180576,
          0.42700332,
          0.43020409,
          0.43123437,
          0.42875425,
          0.46545378,
          0.43170784,
          0.40314007,
          0.43700755,
          0.44542091,
          0.42202083,
          0.42646578,
          0.42281944,
          0.44515303,
          0.41468868,
          0.39605591,
          0.41082443,
          0.42907371,
          0.46407253,
          0.45124974,
          0.43137377,
          0.47618719,
          0.46893385,
          0.43525854,
          0.4292419,
          0.43480564,
          0.43472095,
          0.43397116
         ],
         "y0": " ",
         "yaxis": "y4"
        },
        {
         "marker": {
          "color": "rgba(0, 0, 0, 1)",
          "line": {
           "width": 2
          },
          "size": 10,
          "symbol": 34
         },
         "mode": "markers",
         "name": "0.437 Real value",
         "type": "scatter",
         "xaxis": "x",
         "y": [
          0.43705379
         ],
         "yaxis": "y"
        },
        {
         "marker": {
          "color": "rgba(0, 0, 0, 1)",
          "line": {
           "width": 2
          },
          "size": 10,
          "symbol": 34
         },
         "mode": "markers",
         "name": "0.437 Real value",
         "type": "scatter",
         "xaxis": "x2",
         "y": [
          0.43705379
         ],
         "yaxis": "y2"
        },
        {
         "marker": {
          "color": "rgba(0, 0, 0, 1)",
          "line": {
           "width": 2
          },
          "size": 10,
          "symbol": 34
         },
         "mode": "markers",
         "name": "0.437 Real value",
         "type": "scatter",
         "xaxis": "x3",
         "y": [
          0.43705379
         ],
         "yaxis": "y3"
        },
        {
         "marker": {
          "color": "rgba(0, 0, 0, 1)",
          "line": {
           "width": 2
          },
          "size": 10,
          "symbol": 34
         },
         "mode": "markers",
         "name": "0.437 Real value",
         "type": "scatter",
         "xaxis": "x4",
         "y": [
          0.43705379
         ],
         "yaxis": "y4"
        }
       ],
       "layout": {
        "annotations": [
         {
          "font": {},
          "showarrow": false,
          "text": "=naif_solution",
          "x": 0.1175,
          "xanchor": "center",
          "xref": "paper",
          "y": 1,
          "yanchor": "bottom",
          "yref": "paper"
         },
         {
          "font": {},
          "showarrow": false,
          "text": "=naif_solution_alpha_known",
          "x": 0.3725,
          "xanchor": "center",
          "xref": "paper",
          "y": 1,
          "yanchor": "bottom",
          "yref": "paper"
         },
         {
          "font": {},
          "showarrow": false,
          "text": "=EM_solution_alpha_known",
          "x": 0.6275,
          "xanchor": "center",
          "xref": "paper",
          "y": 1,
          "yanchor": "bottom",
          "yref": "paper"
         },
         {
          "font": {},
          "showarrow": false,
          "text": "=EM_solution",
          "x": 0.8824999999999998,
          "xanchor": "center",
          "xref": "paper",
          "y": 1,
          "yanchor": "bottom",
          "yref": "paper"
         }
        ],
        "boxmode": "overlay",
        "legend": {
         "title": {
          "text": ""
         },
         "tracegroupgap": 0
        },
        "template": {
         "data": {
          "bar": [
           {
            "error_x": {
             "color": "#2a3f5f"
            },
            "error_y": {
             "color": "#2a3f5f"
            },
            "marker": {
             "line": {
              "color": "#E5ECF6",
              "width": 0.5
             }
            },
            "type": "bar"
           }
          ],
          "barpolar": [
           {
            "marker": {
             "line": {
              "color": "#E5ECF6",
              "width": 0.5
             }
            },
            "type": "barpolar"
           }
          ],
          "carpet": [
           {
            "aaxis": {
             "endlinecolor": "#2a3f5f",
             "gridcolor": "white",
             "linecolor": "white",
             "minorgridcolor": "white",
             "startlinecolor": "#2a3f5f"
            },
            "baxis": {
             "endlinecolor": "#2a3f5f",
             "gridcolor": "white",
             "linecolor": "white",
             "minorgridcolor": "white",
             "startlinecolor": "#2a3f5f"
            },
            "type": "carpet"
           }
          ],
          "choropleth": [
           {
            "colorbar": {
             "outlinewidth": 0,
             "ticks": ""
            },
            "type": "choropleth"
           }
          ],
          "contour": [
           {
            "colorbar": {
             "outlinewidth": 0,
             "ticks": ""
            },
            "colorscale": [
             [
              0,
              "#0d0887"
             ],
             [
              0.1111111111111111,
              "#46039f"
             ],
             [
              0.2222222222222222,
              "#7201a8"
             ],
             [
              0.3333333333333333,
              "#9c179e"
             ],
             [
              0.4444444444444444,
              "#bd3786"
             ],
             [
              0.5555555555555556,
              "#d8576b"
             ],
             [
              0.6666666666666666,
              "#ed7953"
             ],
             [
              0.7777777777777778,
              "#fb9f3a"
             ],
             [
              0.8888888888888888,
              "#fdca26"
             ],
             [
              1,
              "#f0f921"
             ]
            ],
            "type": "contour"
           }
          ],
          "contourcarpet": [
           {
            "colorbar": {
             "outlinewidth": 0,
             "ticks": ""
            },
            "type": "contourcarpet"
           }
          ],
          "heatmap": [
           {
            "colorbar": {
             "outlinewidth": 0,
             "ticks": ""
            },
            "colorscale": [
             [
              0,
              "#0d0887"
             ],
             [
              0.1111111111111111,
              "#46039f"
             ],
             [
              0.2222222222222222,
              "#7201a8"
             ],
             [
              0.3333333333333333,
              "#9c179e"
             ],
             [
              0.4444444444444444,
              "#bd3786"
             ],
             [
              0.5555555555555556,
              "#d8576b"
             ],
             [
              0.6666666666666666,
              "#ed7953"
             ],
             [
              0.7777777777777778,
              "#fb9f3a"
             ],
             [
              0.8888888888888888,
              "#fdca26"
             ],
             [
              1,
              "#f0f921"
             ]
            ],
            "type": "heatmap"
           }
          ],
          "heatmapgl": [
           {
            "colorbar": {
             "outlinewidth": 0,
             "ticks": ""
            },
            "colorscale": [
             [
              0,
              "#0d0887"
             ],
             [
              0.1111111111111111,
              "#46039f"
             ],
             [
              0.2222222222222222,
              "#7201a8"
             ],
             [
              0.3333333333333333,
              "#9c179e"
             ],
             [
              0.4444444444444444,
              "#bd3786"
             ],
             [
              0.5555555555555556,
              "#d8576b"
             ],
             [
              0.6666666666666666,
              "#ed7953"
             ],
             [
              0.7777777777777778,
              "#fb9f3a"
             ],
             [
              0.8888888888888888,
              "#fdca26"
             ],
             [
              1,
              "#f0f921"
             ]
            ],
            "type": "heatmapgl"
           }
          ],
          "histogram": [
           {
            "marker": {
             "colorbar": {
              "outlinewidth": 0,
              "ticks": ""
             }
            },
            "type": "histogram"
           }
          ],
          "histogram2d": [
           {
            "colorbar": {
             "outlinewidth": 0,
             "ticks": ""
            },
            "colorscale": [
             [
              0,
              "#0d0887"
             ],
             [
              0.1111111111111111,
              "#46039f"
             ],
             [
              0.2222222222222222,
              "#7201a8"
             ],
             [
              0.3333333333333333,
              "#9c179e"
             ],
             [
              0.4444444444444444,
              "#bd3786"
             ],
             [
              0.5555555555555556,
              "#d8576b"
             ],
             [
              0.6666666666666666,
              "#ed7953"
             ],
             [
              0.7777777777777778,
              "#fb9f3a"
             ],
             [
              0.8888888888888888,
              "#fdca26"
             ],
             [
              1,
              "#f0f921"
             ]
            ],
            "type": "histogram2d"
           }
          ],
          "histogram2dcontour": [
           {
            "colorbar": {
             "outlinewidth": 0,
             "ticks": ""
            },
            "colorscale": [
             [
              0,
              "#0d0887"
             ],
             [
              0.1111111111111111,
              "#46039f"
             ],
             [
              0.2222222222222222,
              "#7201a8"
             ],
             [
              0.3333333333333333,
              "#9c179e"
             ],
             [
              0.4444444444444444,
              "#bd3786"
             ],
             [
              0.5555555555555556,
              "#d8576b"
             ],
             [
              0.6666666666666666,
              "#ed7953"
             ],
             [
              0.7777777777777778,
              "#fb9f3a"
             ],
             [
              0.8888888888888888,
              "#fdca26"
             ],
             [
              1,
              "#f0f921"
             ]
            ],
            "type": "histogram2dcontour"
           }
          ],
          "mesh3d": [
           {
            "colorbar": {
             "outlinewidth": 0,
             "ticks": ""
            },
            "type": "mesh3d"
           }
          ],
          "parcoords": [
           {
            "line": {
             "colorbar": {
              "outlinewidth": 0,
              "ticks": ""
             }
            },
            "type": "parcoords"
           }
          ],
          "pie": [
           {
            "automargin": true,
            "type": "pie"
           }
          ],
          "scatter": [
           {
            "marker": {
             "colorbar": {
              "outlinewidth": 0,
              "ticks": ""
             }
            },
            "type": "scatter"
           }
          ],
          "scatter3d": [
           {
            "line": {
             "colorbar": {
              "outlinewidth": 0,
              "ticks": ""
             }
            },
            "marker": {
             "colorbar": {
              "outlinewidth": 0,
              "ticks": ""
             }
            },
            "type": "scatter3d"
           }
          ],
          "scattercarpet": [
           {
            "marker": {
             "colorbar": {
              "outlinewidth": 0,
              "ticks": ""
             }
            },
            "type": "scattercarpet"
           }
          ],
          "scattergeo": [
           {
            "marker": {
             "colorbar": {
              "outlinewidth": 0,
              "ticks": ""
             }
            },
            "type": "scattergeo"
           }
          ],
          "scattergl": [
           {
            "marker": {
             "colorbar": {
              "outlinewidth": 0,
              "ticks": ""
             }
            },
            "type": "scattergl"
           }
          ],
          "scattermapbox": [
           {
            "marker": {
             "colorbar": {
              "outlinewidth": 0,
              "ticks": ""
             }
            },
            "type": "scattermapbox"
           }
          ],
          "scatterpolar": [
           {
            "marker": {
             "colorbar": {
              "outlinewidth": 0,
              "ticks": ""
             }
            },
            "type": "scatterpolar"
           }
          ],
          "scatterpolargl": [
           {
            "marker": {
             "colorbar": {
              "outlinewidth": 0,
              "ticks": ""
             }
            },
            "type": "scatterpolargl"
           }
          ],
          "scatterternary": [
           {
            "marker": {
             "colorbar": {
              "outlinewidth": 0,
              "ticks": ""
             }
            },
            "type": "scatterternary"
           }
          ],
          "surface": [
           {
            "colorbar": {
             "outlinewidth": 0,
             "ticks": ""
            },
            "colorscale": [
             [
              0,
              "#0d0887"
             ],
             [
              0.1111111111111111,
              "#46039f"
             ],
             [
              0.2222222222222222,
              "#7201a8"
             ],
             [
              0.3333333333333333,
              "#9c179e"
             ],
             [
              0.4444444444444444,
              "#bd3786"
             ],
             [
              0.5555555555555556,
              "#d8576b"
             ],
             [
              0.6666666666666666,
              "#ed7953"
             ],
             [
              0.7777777777777778,
              "#fb9f3a"
             ],
             [
              0.8888888888888888,
              "#fdca26"
             ],
             [
              1,
              "#f0f921"
             ]
            ],
            "type": "surface"
           }
          ],
          "table": [
           {
            "cells": {
             "fill": {
              "color": "#EBF0F8"
             },
             "line": {
              "color": "white"
             }
            },
            "header": {
             "fill": {
              "color": "#C8D4E3"
             },
             "line": {
              "color": "white"
             }
            },
            "type": "table"
           }
          ]
         },
         "layout": {
          "annotationdefaults": {
           "arrowcolor": "#2a3f5f",
           "arrowhead": 0,
           "arrowwidth": 1
          },
          "autotypenumbers": "strict",
          "coloraxis": {
           "colorbar": {
            "outlinewidth": 0,
            "ticks": ""
           }
          },
          "colorscale": {
           "diverging": [
            [
             0,
             "#8e0152"
            ],
            [
             0.1,
             "#c51b7d"
            ],
            [
             0.2,
             "#de77ae"
            ],
            [
             0.3,
             "#f1b6da"
            ],
            [
             0.4,
             "#fde0ef"
            ],
            [
             0.5,
             "#f7f7f7"
            ],
            [
             0.6,
             "#e6f5d0"
            ],
            [
             0.7,
             "#b8e186"
            ],
            [
             0.8,
             "#7fbc41"
            ],
            [
             0.9,
             "#4d9221"
            ],
            [
             1,
             "#276419"
            ]
           ],
           "sequential": [
            [
             0,
             "#0d0887"
            ],
            [
             0.1111111111111111,
             "#46039f"
            ],
            [
             0.2222222222222222,
             "#7201a8"
            ],
            [
             0.3333333333333333,
             "#9c179e"
            ],
            [
             0.4444444444444444,
             "#bd3786"
            ],
            [
             0.5555555555555556,
             "#d8576b"
            ],
            [
             0.6666666666666666,
             "#ed7953"
            ],
            [
             0.7777777777777778,
             "#fb9f3a"
            ],
            [
             0.8888888888888888,
             "#fdca26"
            ],
            [
             1,
             "#f0f921"
            ]
           ],
           "sequentialminus": [
            [
             0,
             "#0d0887"
            ],
            [
             0.1111111111111111,
             "#46039f"
            ],
            [
             0.2222222222222222,
             "#7201a8"
            ],
            [
             0.3333333333333333,
             "#9c179e"
            ],
            [
             0.4444444444444444,
             "#bd3786"
            ],
            [
             0.5555555555555556,
             "#d8576b"
            ],
            [
             0.6666666666666666,
             "#ed7953"
            ],
            [
             0.7777777777777778,
             "#fb9f3a"
            ],
            [
             0.8888888888888888,
             "#fdca26"
            ],
            [
             1,
             "#f0f921"
            ]
           ]
          },
          "colorway": [
           "#636efa",
           "#EF553B",
           "#00cc96",
           "#ab63fa",
           "#FFA15A",
           "#19d3f3",
           "#FF6692",
           "#B6E880",
           "#FF97FF",
           "#FECB52"
          ],
          "font": {
           "color": "#2a3f5f"
          },
          "geo": {
           "bgcolor": "white",
           "lakecolor": "white",
           "landcolor": "#E5ECF6",
           "showlakes": true,
           "showland": true,
           "subunitcolor": "white"
          },
          "hoverlabel": {
           "align": "left"
          },
          "hovermode": "closest",
          "mapbox": {
           "style": "light"
          },
          "paper_bgcolor": "white",
          "plot_bgcolor": "#E5ECF6",
          "polar": {
           "angularaxis": {
            "gridcolor": "white",
            "linecolor": "white",
            "ticks": ""
           },
           "bgcolor": "#E5ECF6",
           "radialaxis": {
            "gridcolor": "white",
            "linecolor": "white",
            "ticks": ""
           }
          },
          "scene": {
           "xaxis": {
            "backgroundcolor": "#E5ECF6",
            "gridcolor": "white",
            "gridwidth": 2,
            "linecolor": "white",
            "showbackground": true,
            "ticks": "",
            "zerolinecolor": "white"
           },
           "yaxis": {
            "backgroundcolor": "#E5ECF6",
            "gridcolor": "white",
            "gridwidth": 2,
            "linecolor": "white",
            "showbackground": true,
            "ticks": "",
            "zerolinecolor": "white"
           },
           "zaxis": {
            "backgroundcolor": "#E5ECF6",
            "gridcolor": "white",
            "gridwidth": 2,
            "linecolor": "white",
            "showbackground": true,
            "ticks": "",
            "zerolinecolor": "white"
           }
          },
          "shapedefaults": {
           "line": {
            "color": "#2a3f5f"
           }
          },
          "ternary": {
           "aaxis": {
            "gridcolor": "white",
            "linecolor": "white",
            "ticks": ""
           },
           "baxis": {
            "gridcolor": "white",
            "linecolor": "white",
            "ticks": ""
           },
           "bgcolor": "#E5ECF6",
           "caxis": {
            "gridcolor": "white",
            "linecolor": "white",
            "ticks": ""
           }
          },
          "title": {
           "x": 0.05
          },
          "xaxis": {
           "automargin": true,
           "gridcolor": "white",
           "linecolor": "white",
           "ticks": "",
           "title": {
            "standoff": 15
           },
           "zerolinecolor": "white",
           "zerolinewidth": 2
          },
          "yaxis": {
           "automargin": true,
           "gridcolor": "white",
           "linecolor": "white",
           "ticks": "",
           "title": {
            "standoff": 15
           },
           "zerolinecolor": "white",
           "zerolinewidth": 2
          }
         }
        },
        "title": {
         "text": "Variant 3"
        },
        "xaxis": {
         "anchor": "y",
         "domain": [
          0,
          0.235
         ]
        },
        "xaxis2": {
         "anchor": "y2",
         "domain": [
          0.255,
          0.49
         ],
         "matches": "x"
        },
        "xaxis3": {
         "anchor": "y3",
         "domain": [
          0.51,
          0.745
         ],
         "matches": "x"
        },
        "xaxis4": {
         "anchor": "y4",
         "domain": [
          0.7649999999999999,
          0.9999999999999999
         ],
         "matches": "x"
        },
        "yaxis": {
         "anchor": "x",
         "domain": [
          0,
          1
         ],
         "title": {
          "text": "value"
         }
        },
        "yaxis2": {
         "anchor": "x2",
         "domain": [
          0,
          1
         ],
         "matches": "y",
         "showticklabels": false
        },
        "yaxis3": {
         "anchor": "x3",
         "domain": [
          0,
          1
         ],
         "matches": "y",
         "showticklabels": false
        },
        "yaxis4": {
         "anchor": "x4",
         "domain": [
          0,
          1
         ],
         "matches": "y",
         "showticklabels": false
        }
       }
      }
     },
     "metadata": {},
     "output_type": "display_data"
    },
    {
     "data": {
      "application/vnd.plotly.v1+json": {
       "config": {
        "plotlyServerURL": "https://plot.ly"
       },
       "data": [
        {
         "alignmentgroup": "True",
         "hovertemplate": "=naif_solution<br>value=%{y}<extra></extra>",
         "legendgroup": "naif_solution",
         "marker": {
          "color": "#636efa"
         },
         "name": "naif_solution",
         "notched": false,
         "offsetgroup": "naif_solution",
         "orientation": "v",
         "showlegend": true,
         "type": "box",
         "x0": " ",
         "xaxis": "x",
         "y": [
          0.3151916,
          0.27294864,
          0.23469458,
          0.3013051,
          0.32419759,
          0.27278277,
          0.30204858,
          0.30537305,
          0.32764287,
          0.2533817,
          0.27403139,
          0.25883441,
          0.23697914,
          0.34948023,
          0.30549411,
          0.37993177,
          0.27381504,
          0.23614744,
          0.27865841,
          0.32347235,
          0.23653832,
          0.32467908,
          0.30474939,
          0.31676391,
          0.26473557,
          0.28793008,
          0.31777363,
          0.26667634,
          0.30246589,
          0.34582632,
          0.25781264,
          0.19353441,
          0.31542762,
          0.33926061,
          0.195026,
          0.26756528,
          0.2869883,
          0.30287821,
          0.25361434,
          0.34592912,
          0.33043632,
          0.27088495,
          0.29192872,
          0.17725875,
          0.36699926,
          0.28687762,
          0.28617092,
          0.23758925,
          0.29386433,
          0.30623451,
          0.26003028,
          0.2696164,
          0.30328916,
          0.27399065,
          0.3588011,
          0.27634685,
          0.29731824,
          0.3434859,
          0.24474728,
          0.32784914,
          0.32535869,
          0.2818804,
          0.32697787,
          0.22235093,
          0.33374107,
          0.18664428,
          0.32864701,
          0.36346091,
          0.34848571,
          0.22741659,
          0.27141186,
          0.3270982,
          0.30139165,
          0.34435228,
          0.26984669,
          0.29974855,
          0.26405178,
          0.31305225,
          0.29459961,
          0.340973,
          0.15997586,
          0.32084342,
          0.25522281,
          0.26999328,
          0.2106236,
          0.30617686,
          0.33361714,
          0.30998327,
          0.34548014,
          0.19881926,
          0.2280807,
          0.25533687,
          0.28587857,
          0.32030383,
          0.17115273,
          0.26147033,
          0.24212622,
          0.24180104,
          0.36653244,
          0.26938992
         ],
         "y0": " ",
         "yaxis": "y"
        },
        {
         "alignmentgroup": "True",
         "hovertemplate": "=naif_solution_alpha_known<br>value=%{y}<extra></extra>",
         "legendgroup": "naif_solution_alpha_known",
         "marker": {
          "color": "#EF553B"
         },
         "name": "naif_solution_alpha_known",
         "notched": false,
         "offsetgroup": "naif_solution_alpha_known",
         "orientation": "v",
         "showlegend": true,
         "type": "box",
         "x0": " ",
         "xaxis": "x2",
         "y": [
          0.1930195,
          0.22149809,
          0.22402503,
          0.20896074,
          0.21259072,
          0.20903936,
          0.19739652,
          0.21137666,
          0.20575006,
          0.2025259,
          0.22168114,
          0.16805806,
          0.19510045,
          0.22475312,
          0.22090473,
          0.22016282,
          0.22712729,
          0.2111637,
          0.25457662,
          0.23594385,
          0.1549247,
          0.23202421,
          0.21554857,
          0.20060486,
          0.24479793,
          0.24348763,
          0.19135936,
          0.16960013,
          0.23420654,
          0.19792132,
          0.21411775,
          0.15886581,
          0.18070106,
          0.19964773,
          0.20688272,
          0.19954344,
          0.20325056,
          0.20893112,
          0.15565298,
          0.21367564,
          0.23719692,
          0.21083862,
          0.21214682,
          0.19734,
          0.21795678,
          0.18242648,
          0.1863085,
          0.21817136,
          0.20505109,
          0.20514624,
          0.21579026,
          0.20796398,
          0.22764708,
          0.18023761,
          0.23375331,
          0.20812243,
          0.21218702,
          0.20401663,
          0.18250282,
          0.19825855,
          0.22508937,
          0.21135685,
          0.20406291,
          0.22067569,
          0.19107946,
          0.16440399,
          0.22187315,
          0.21042652,
          0.22079438,
          0.20845648,
          0.19433471,
          0.19509922,
          0.21407553,
          0.19412775,
          0.21771892,
          0.21415815,
          0.20734016,
          0.22036858,
          0.20880375,
          0.22050108,
          0.22678838,
          0.21751775,
          0.2364743,
          0.20991882,
          0.22461419,
          0.1803927,
          0.19744605,
          0.19347159,
          0.22114462,
          0.20277661,
          0.19980301,
          0.19955526,
          0.20358759,
          0.21155106,
          0.20267137,
          0.2226958,
          0.19499539,
          0.20779194,
          0.23150639,
          0.20332263
         ],
         "y0": " ",
         "yaxis": "y2"
        },
        {
         "alignmentgroup": "True",
         "hovertemplate": "=EM_solution_alpha_known<br>value=%{y}<extra></extra>",
         "legendgroup": "EM_solution_alpha_known",
         "marker": {
          "color": "#00cc96"
         },
         "name": "EM_solution_alpha_known",
         "notched": false,
         "offsetgroup": "EM_solution_alpha_known",
         "orientation": "v",
         "showlegend": true,
         "type": "box",
         "x0": " ",
         "xaxis": "x3",
         "y": [
          0.19317974,
          0.21624223,
          0.20998588,
          0.20207088,
          0.20453433,
          0.20579315,
          0.18779328,
          0.20994698,
          0.20880315,
          0.19599015,
          0.23155523,
          0.17486524,
          0.19492802,
          0.213492,
          0.21600251,
          0.2117986,
          0.22420634,
          0.21739657,
          0.24510667,
          0.21855103,
          0.163423,
          0.22064798,
          0.20822933,
          0.20023777,
          0.24464095,
          0.2400588,
          0.19213539,
          0.16932027,
          0.21420444,
          0.19274292,
          0.20304688,
          0.14936489,
          0.18072523,
          0.19017928,
          0.20272786,
          0.19207325,
          0.20149994,
          0.20650313,
          0.16519916,
          0.20862905,
          0.23480548,
          0.21959783,
          0.21955573,
          0.20378051,
          0.21209897,
          0.18301642,
          0.19380527,
          0.2139196,
          0.20557241,
          0.20462723,
          0.20372012,
          0.21521381,
          0.2204705,
          0.17618901,
          0.23308885,
          0.20507734,
          0.21569171,
          0.21193368,
          0.16979198,
          0.190364,
          0.22129683,
          0.20057583,
          0.19167692,
          0.2223821,
          0.1950856,
          0.16463508,
          0.20529408,
          0.20458847,
          0.20903367,
          0.21064129,
          0.19161503,
          0.19171653,
          0.21294517,
          0.18884755,
          0.20512985,
          0.22187757,
          0.20857462,
          0.20355352,
          0.21248854,
          0.21754938,
          0.2197611,
          0.21534917,
          0.2345769,
          0.21858616,
          0.22082232,
          0.18678013,
          0.20571315,
          0.19851165,
          0.21893344,
          0.19709749,
          0.20781219,
          0.20191732,
          0.19184675,
          0.20453651,
          0.20444452,
          0.21965564,
          0.1992422,
          0.21210127,
          0.22218097,
          0.19457502
         ],
         "y0": " ",
         "yaxis": "y3"
        },
        {
         "alignmentgroup": "True",
         "hovertemplate": "=EM_solution<br>value=%{y}<extra></extra>",
         "legendgroup": "EM_solution",
         "marker": {
          "color": "#ab63fa"
         },
         "name": "EM_solution",
         "notched": false,
         "offsetgroup": "EM_solution",
         "orientation": "v",
         "showlegend": true,
         "type": "box",
         "x0": " ",
         "xaxis": "x4",
         "y": [
          0.19243238,
          0.2166367,
          0.2100427,
          0.20214063,
          0.20455533,
          0.20595875,
          0.1878529,
          0.20995358,
          0.20876123,
          0.1960042,
          0.23108678,
          0.17501007,
          0.19516052,
          0.21399035,
          0.21619681,
          0.21258589,
          0.22428927,
          0.21815874,
          0.24350828,
          0.21874024,
          0.16324412,
          0.21977874,
          0.20822171,
          0.20013044,
          0.24449954,
          0.23989905,
          0.19212105,
          0.1699757,
          0.21407063,
          0.1927265,
          0.20317625,
          0.14912227,
          0.18129727,
          0.19088497,
          0.20172446,
          0.1917762,
          0.20154703,
          0.20655719,
          0.16434797,
          0.20857646,
          0.23514412,
          0.21780214,
          0.22017402,
          0.20417921,
          0.21271837,
          0.18296589,
          0.19343037,
          0.21431236,
          0.20615897,
          0.20521564,
          0.20419772,
          0.21508188,
          0.22011282,
          0.17631018,
          0.23311132,
          0.20523512,
          0.2157199,
          0.2119534,
          0.17058748,
          0.19141066,
          0.22089127,
          0.20023486,
          0.19215785,
          0.2219724,
          0.19393591,
          0.16534007,
          0.20529602,
          0.2057442,
          0.20921998,
          0.21054354,
          0.19184985,
          0.19151734,
          0.21288683,
          0.19038725,
          0.20516109,
          0.22245818,
          0.20847952,
          0.20289184,
          0.21170891,
          0.21724229,
          0.22026265,
          0.21617376,
          0.23485567,
          0.21868787,
          0.22079337,
          0.18658849,
          0.20707461,
          0.19874561,
          0.22080525,
          0.19799845,
          0.20786373,
          0.20124331,
          0.19164319,
          0.20299855,
          0.20453214,
          0.21977254,
          0.19937334,
          0.20994834,
          0.22178616,
          0.19536101
         ],
         "y0": " ",
         "yaxis": "y4"
        },
        {
         "marker": {
          "color": "rgba(0, 0, 0, 1)",
          "line": {
           "width": 2
          },
          "size": 10,
          "symbol": 34
         },
         "mode": "markers",
         "name": "0.206 Real value",
         "type": "scatter",
         "xaxis": "x",
         "y": [
          0.2055608
         ],
         "yaxis": "y"
        },
        {
         "marker": {
          "color": "rgba(0, 0, 0, 1)",
          "line": {
           "width": 2
          },
          "size": 10,
          "symbol": 34
         },
         "mode": "markers",
         "name": "0.206 Real value",
         "type": "scatter",
         "xaxis": "x2",
         "y": [
          0.2055608
         ],
         "yaxis": "y2"
        },
        {
         "marker": {
          "color": "rgba(0, 0, 0, 1)",
          "line": {
           "width": 2
          },
          "size": 10,
          "symbol": 34
         },
         "mode": "markers",
         "name": "0.206 Real value",
         "type": "scatter",
         "xaxis": "x3",
         "y": [
          0.2055608
         ],
         "yaxis": "y3"
        },
        {
         "marker": {
          "color": "rgba(0, 0, 0, 1)",
          "line": {
           "width": 2
          },
          "size": 10,
          "symbol": 34
         },
         "mode": "markers",
         "name": "0.206 Real value",
         "type": "scatter",
         "xaxis": "x4",
         "y": [
          0.2055608
         ],
         "yaxis": "y4"
        }
       ],
       "layout": {
        "annotations": [
         {
          "font": {},
          "showarrow": false,
          "text": "=naif_solution",
          "x": 0.1175,
          "xanchor": "center",
          "xref": "paper",
          "y": 1,
          "yanchor": "bottom",
          "yref": "paper"
         },
         {
          "font": {},
          "showarrow": false,
          "text": "=naif_solution_alpha_known",
          "x": 0.3725,
          "xanchor": "center",
          "xref": "paper",
          "y": 1,
          "yanchor": "bottom",
          "yref": "paper"
         },
         {
          "font": {},
          "showarrow": false,
          "text": "=EM_solution_alpha_known",
          "x": 0.6275,
          "xanchor": "center",
          "xref": "paper",
          "y": 1,
          "yanchor": "bottom",
          "yref": "paper"
         },
         {
          "font": {},
          "showarrow": false,
          "text": "=EM_solution",
          "x": 0.8824999999999998,
          "xanchor": "center",
          "xref": "paper",
          "y": 1,
          "yanchor": "bottom",
          "yref": "paper"
         }
        ],
        "boxmode": "overlay",
        "legend": {
         "title": {
          "text": ""
         },
         "tracegroupgap": 0
        },
        "template": {
         "data": {
          "bar": [
           {
            "error_x": {
             "color": "#2a3f5f"
            },
            "error_y": {
             "color": "#2a3f5f"
            },
            "marker": {
             "line": {
              "color": "#E5ECF6",
              "width": 0.5
             }
            },
            "type": "bar"
           }
          ],
          "barpolar": [
           {
            "marker": {
             "line": {
              "color": "#E5ECF6",
              "width": 0.5
             }
            },
            "type": "barpolar"
           }
          ],
          "carpet": [
           {
            "aaxis": {
             "endlinecolor": "#2a3f5f",
             "gridcolor": "white",
             "linecolor": "white",
             "minorgridcolor": "white",
             "startlinecolor": "#2a3f5f"
            },
            "baxis": {
             "endlinecolor": "#2a3f5f",
             "gridcolor": "white",
             "linecolor": "white",
             "minorgridcolor": "white",
             "startlinecolor": "#2a3f5f"
            },
            "type": "carpet"
           }
          ],
          "choropleth": [
           {
            "colorbar": {
             "outlinewidth": 0,
             "ticks": ""
            },
            "type": "choropleth"
           }
          ],
          "contour": [
           {
            "colorbar": {
             "outlinewidth": 0,
             "ticks": ""
            },
            "colorscale": [
             [
              0,
              "#0d0887"
             ],
             [
              0.1111111111111111,
              "#46039f"
             ],
             [
              0.2222222222222222,
              "#7201a8"
             ],
             [
              0.3333333333333333,
              "#9c179e"
             ],
             [
              0.4444444444444444,
              "#bd3786"
             ],
             [
              0.5555555555555556,
              "#d8576b"
             ],
             [
              0.6666666666666666,
              "#ed7953"
             ],
             [
              0.7777777777777778,
              "#fb9f3a"
             ],
             [
              0.8888888888888888,
              "#fdca26"
             ],
             [
              1,
              "#f0f921"
             ]
            ],
            "type": "contour"
           }
          ],
          "contourcarpet": [
           {
            "colorbar": {
             "outlinewidth": 0,
             "ticks": ""
            },
            "type": "contourcarpet"
           }
          ],
          "heatmap": [
           {
            "colorbar": {
             "outlinewidth": 0,
             "ticks": ""
            },
            "colorscale": [
             [
              0,
              "#0d0887"
             ],
             [
              0.1111111111111111,
              "#46039f"
             ],
             [
              0.2222222222222222,
              "#7201a8"
             ],
             [
              0.3333333333333333,
              "#9c179e"
             ],
             [
              0.4444444444444444,
              "#bd3786"
             ],
             [
              0.5555555555555556,
              "#d8576b"
             ],
             [
              0.6666666666666666,
              "#ed7953"
             ],
             [
              0.7777777777777778,
              "#fb9f3a"
             ],
             [
              0.8888888888888888,
              "#fdca26"
             ],
             [
              1,
              "#f0f921"
             ]
            ],
            "type": "heatmap"
           }
          ],
          "heatmapgl": [
           {
            "colorbar": {
             "outlinewidth": 0,
             "ticks": ""
            },
            "colorscale": [
             [
              0,
              "#0d0887"
             ],
             [
              0.1111111111111111,
              "#46039f"
             ],
             [
              0.2222222222222222,
              "#7201a8"
             ],
             [
              0.3333333333333333,
              "#9c179e"
             ],
             [
              0.4444444444444444,
              "#bd3786"
             ],
             [
              0.5555555555555556,
              "#d8576b"
             ],
             [
              0.6666666666666666,
              "#ed7953"
             ],
             [
              0.7777777777777778,
              "#fb9f3a"
             ],
             [
              0.8888888888888888,
              "#fdca26"
             ],
             [
              1,
              "#f0f921"
             ]
            ],
            "type": "heatmapgl"
           }
          ],
          "histogram": [
           {
            "marker": {
             "colorbar": {
              "outlinewidth": 0,
              "ticks": ""
             }
            },
            "type": "histogram"
           }
          ],
          "histogram2d": [
           {
            "colorbar": {
             "outlinewidth": 0,
             "ticks": ""
            },
            "colorscale": [
             [
              0,
              "#0d0887"
             ],
             [
              0.1111111111111111,
              "#46039f"
             ],
             [
              0.2222222222222222,
              "#7201a8"
             ],
             [
              0.3333333333333333,
              "#9c179e"
             ],
             [
              0.4444444444444444,
              "#bd3786"
             ],
             [
              0.5555555555555556,
              "#d8576b"
             ],
             [
              0.6666666666666666,
              "#ed7953"
             ],
             [
              0.7777777777777778,
              "#fb9f3a"
             ],
             [
              0.8888888888888888,
              "#fdca26"
             ],
             [
              1,
              "#f0f921"
             ]
            ],
            "type": "histogram2d"
           }
          ],
          "histogram2dcontour": [
           {
            "colorbar": {
             "outlinewidth": 0,
             "ticks": ""
            },
            "colorscale": [
             [
              0,
              "#0d0887"
             ],
             [
              0.1111111111111111,
              "#46039f"
             ],
             [
              0.2222222222222222,
              "#7201a8"
             ],
             [
              0.3333333333333333,
              "#9c179e"
             ],
             [
              0.4444444444444444,
              "#bd3786"
             ],
             [
              0.5555555555555556,
              "#d8576b"
             ],
             [
              0.6666666666666666,
              "#ed7953"
             ],
             [
              0.7777777777777778,
              "#fb9f3a"
             ],
             [
              0.8888888888888888,
              "#fdca26"
             ],
             [
              1,
              "#f0f921"
             ]
            ],
            "type": "histogram2dcontour"
           }
          ],
          "mesh3d": [
           {
            "colorbar": {
             "outlinewidth": 0,
             "ticks": ""
            },
            "type": "mesh3d"
           }
          ],
          "parcoords": [
           {
            "line": {
             "colorbar": {
              "outlinewidth": 0,
              "ticks": ""
             }
            },
            "type": "parcoords"
           }
          ],
          "pie": [
           {
            "automargin": true,
            "type": "pie"
           }
          ],
          "scatter": [
           {
            "marker": {
             "colorbar": {
              "outlinewidth": 0,
              "ticks": ""
             }
            },
            "type": "scatter"
           }
          ],
          "scatter3d": [
           {
            "line": {
             "colorbar": {
              "outlinewidth": 0,
              "ticks": ""
             }
            },
            "marker": {
             "colorbar": {
              "outlinewidth": 0,
              "ticks": ""
             }
            },
            "type": "scatter3d"
           }
          ],
          "scattercarpet": [
           {
            "marker": {
             "colorbar": {
              "outlinewidth": 0,
              "ticks": ""
             }
            },
            "type": "scattercarpet"
           }
          ],
          "scattergeo": [
           {
            "marker": {
             "colorbar": {
              "outlinewidth": 0,
              "ticks": ""
             }
            },
            "type": "scattergeo"
           }
          ],
          "scattergl": [
           {
            "marker": {
             "colorbar": {
              "outlinewidth": 0,
              "ticks": ""
             }
            },
            "type": "scattergl"
           }
          ],
          "scattermapbox": [
           {
            "marker": {
             "colorbar": {
              "outlinewidth": 0,
              "ticks": ""
             }
            },
            "type": "scattermapbox"
           }
          ],
          "scatterpolar": [
           {
            "marker": {
             "colorbar": {
              "outlinewidth": 0,
              "ticks": ""
             }
            },
            "type": "scatterpolar"
           }
          ],
          "scatterpolargl": [
           {
            "marker": {
             "colorbar": {
              "outlinewidth": 0,
              "ticks": ""
             }
            },
            "type": "scatterpolargl"
           }
          ],
          "scatterternary": [
           {
            "marker": {
             "colorbar": {
              "outlinewidth": 0,
              "ticks": ""
             }
            },
            "type": "scatterternary"
           }
          ],
          "surface": [
           {
            "colorbar": {
             "outlinewidth": 0,
             "ticks": ""
            },
            "colorscale": [
             [
              0,
              "#0d0887"
             ],
             [
              0.1111111111111111,
              "#46039f"
             ],
             [
              0.2222222222222222,
              "#7201a8"
             ],
             [
              0.3333333333333333,
              "#9c179e"
             ],
             [
              0.4444444444444444,
              "#bd3786"
             ],
             [
              0.5555555555555556,
              "#d8576b"
             ],
             [
              0.6666666666666666,
              "#ed7953"
             ],
             [
              0.7777777777777778,
              "#fb9f3a"
             ],
             [
              0.8888888888888888,
              "#fdca26"
             ],
             [
              1,
              "#f0f921"
             ]
            ],
            "type": "surface"
           }
          ],
          "table": [
           {
            "cells": {
             "fill": {
              "color": "#EBF0F8"
             },
             "line": {
              "color": "white"
             }
            },
            "header": {
             "fill": {
              "color": "#C8D4E3"
             },
             "line": {
              "color": "white"
             }
            },
            "type": "table"
           }
          ]
         },
         "layout": {
          "annotationdefaults": {
           "arrowcolor": "#2a3f5f",
           "arrowhead": 0,
           "arrowwidth": 1
          },
          "autotypenumbers": "strict",
          "coloraxis": {
           "colorbar": {
            "outlinewidth": 0,
            "ticks": ""
           }
          },
          "colorscale": {
           "diverging": [
            [
             0,
             "#8e0152"
            ],
            [
             0.1,
             "#c51b7d"
            ],
            [
             0.2,
             "#de77ae"
            ],
            [
             0.3,
             "#f1b6da"
            ],
            [
             0.4,
             "#fde0ef"
            ],
            [
             0.5,
             "#f7f7f7"
            ],
            [
             0.6,
             "#e6f5d0"
            ],
            [
             0.7,
             "#b8e186"
            ],
            [
             0.8,
             "#7fbc41"
            ],
            [
             0.9,
             "#4d9221"
            ],
            [
             1,
             "#276419"
            ]
           ],
           "sequential": [
            [
             0,
             "#0d0887"
            ],
            [
             0.1111111111111111,
             "#46039f"
            ],
            [
             0.2222222222222222,
             "#7201a8"
            ],
            [
             0.3333333333333333,
             "#9c179e"
            ],
            [
             0.4444444444444444,
             "#bd3786"
            ],
            [
             0.5555555555555556,
             "#d8576b"
            ],
            [
             0.6666666666666666,
             "#ed7953"
            ],
            [
             0.7777777777777778,
             "#fb9f3a"
            ],
            [
             0.8888888888888888,
             "#fdca26"
            ],
            [
             1,
             "#f0f921"
            ]
           ],
           "sequentialminus": [
            [
             0,
             "#0d0887"
            ],
            [
             0.1111111111111111,
             "#46039f"
            ],
            [
             0.2222222222222222,
             "#7201a8"
            ],
            [
             0.3333333333333333,
             "#9c179e"
            ],
            [
             0.4444444444444444,
             "#bd3786"
            ],
            [
             0.5555555555555556,
             "#d8576b"
            ],
            [
             0.6666666666666666,
             "#ed7953"
            ],
            [
             0.7777777777777778,
             "#fb9f3a"
            ],
            [
             0.8888888888888888,
             "#fdca26"
            ],
            [
             1,
             "#f0f921"
            ]
           ]
          },
          "colorway": [
           "#636efa",
           "#EF553B",
           "#00cc96",
           "#ab63fa",
           "#FFA15A",
           "#19d3f3",
           "#FF6692",
           "#B6E880",
           "#FF97FF",
           "#FECB52"
          ],
          "font": {
           "color": "#2a3f5f"
          },
          "geo": {
           "bgcolor": "white",
           "lakecolor": "white",
           "landcolor": "#E5ECF6",
           "showlakes": true,
           "showland": true,
           "subunitcolor": "white"
          },
          "hoverlabel": {
           "align": "left"
          },
          "hovermode": "closest",
          "mapbox": {
           "style": "light"
          },
          "paper_bgcolor": "white",
          "plot_bgcolor": "#E5ECF6",
          "polar": {
           "angularaxis": {
            "gridcolor": "white",
            "linecolor": "white",
            "ticks": ""
           },
           "bgcolor": "#E5ECF6",
           "radialaxis": {
            "gridcolor": "white",
            "linecolor": "white",
            "ticks": ""
           }
          },
          "scene": {
           "xaxis": {
            "backgroundcolor": "#E5ECF6",
            "gridcolor": "white",
            "gridwidth": 2,
            "linecolor": "white",
            "showbackground": true,
            "ticks": "",
            "zerolinecolor": "white"
           },
           "yaxis": {
            "backgroundcolor": "#E5ECF6",
            "gridcolor": "white",
            "gridwidth": 2,
            "linecolor": "white",
            "showbackground": true,
            "ticks": "",
            "zerolinecolor": "white"
           },
           "zaxis": {
            "backgroundcolor": "#E5ECF6",
            "gridcolor": "white",
            "gridwidth": 2,
            "linecolor": "white",
            "showbackground": true,
            "ticks": "",
            "zerolinecolor": "white"
           }
          },
          "shapedefaults": {
           "line": {
            "color": "#2a3f5f"
           }
          },
          "ternary": {
           "aaxis": {
            "gridcolor": "white",
            "linecolor": "white",
            "ticks": ""
           },
           "baxis": {
            "gridcolor": "white",
            "linecolor": "white",
            "ticks": ""
           },
           "bgcolor": "#E5ECF6",
           "caxis": {
            "gridcolor": "white",
            "linecolor": "white",
            "ticks": ""
           }
          },
          "title": {
           "x": 0.05
          },
          "xaxis": {
           "automargin": true,
           "gridcolor": "white",
           "linecolor": "white",
           "ticks": "",
           "title": {
            "standoff": 15
           },
           "zerolinecolor": "white",
           "zerolinewidth": 2
          },
          "yaxis": {
           "automargin": true,
           "gridcolor": "white",
           "linecolor": "white",
           "ticks": "",
           "title": {
            "standoff": 15
           },
           "zerolinecolor": "white",
           "zerolinewidth": 2
          }
         }
        },
        "title": {
         "text": "Variant 4"
        },
        "xaxis": {
         "anchor": "y",
         "domain": [
          0,
          0.235
         ]
        },
        "xaxis2": {
         "anchor": "y2",
         "domain": [
          0.255,
          0.49
         ],
         "matches": "x"
        },
        "xaxis3": {
         "anchor": "y3",
         "domain": [
          0.51,
          0.745
         ],
         "matches": "x"
        },
        "xaxis4": {
         "anchor": "y4",
         "domain": [
          0.7649999999999999,
          0.9999999999999999
         ],
         "matches": "x"
        },
        "yaxis": {
         "anchor": "x",
         "domain": [
          0,
          1
         ],
         "title": {
          "text": "value"
         }
        },
        "yaxis2": {
         "anchor": "x2",
         "domain": [
          0,
          1
         ],
         "matches": "y",
         "showticklabels": false
        },
        "yaxis3": {
         "anchor": "x3",
         "domain": [
          0,
          1
         ],
         "matches": "y",
         "showticklabels": false
        },
        "yaxis4": {
         "anchor": "x4",
         "domain": [
          0,
          1
         ],
         "matches": "y",
         "showticklabels": false
        }
       }
      }
     },
     "metadata": {},
     "output_type": "display_data"
    },
    {
     "data": {
      "application/vnd.plotly.v1+json": {
       "config": {
        "plotlyServerURL": "https://plot.ly"
       },
       "data": [
        {
         "alignmentgroup": "True",
         "hovertemplate": "=naif_solution<br>value=%{y}<extra></extra>",
         "legendgroup": "naif_solution",
         "marker": {
          "color": "#636efa"
         },
         "name": "naif_solution",
         "notched": false,
         "offsetgroup": "naif_solution",
         "orientation": "v",
         "showlegend": true,
         "type": "box",
         "x0": " ",
         "xaxis": "x",
         "y": [
          0.25961738,
          0.16068099,
          0.17494396,
          0.2797853,
          0.16951588,
          0.13180301,
          0.22926679,
          0.25133334,
          0.24675227,
          0.12397492,
          0.24843595,
          0.29786812,
          0.20945558,
          0.25644391,
          0.22333844,
          0.27517459,
          0.206573,
          0.24590432,
          0.19911764,
          0.17776404,
          0.2884007,
          0.28194787,
          0.21395805,
          0.27760959,
          0.26495011,
          0.23676519,
          0.28301926,
          0.22353797,
          0.23125791,
          0.18135967,
          0.18582352,
          0.17086617,
          0.22836631,
          0.23963818,
          0.22229964,
          0.23198525,
          0.17508383,
          0.1882446,
          0.17391315,
          0.30403323,
          0.2697432,
          0.23245423,
          0.23505923,
          0.2166214,
          0.15517051,
          0.299942,
          0.22941035,
          0.18703287,
          0.1613123,
          0.22070015,
          0.27392089,
          0.26529799,
          0.24918648,
          0.2673662,
          0.25719578,
          0.23838567,
          0.21404698,
          0.21074147,
          0.23180114,
          0.23325797,
          0.27733522,
          0.19022563,
          0.24954911,
          0.2406638,
          0.20129929,
          0.225613,
          0.14968952,
          0.22177721,
          0.19617142,
          0.32534747,
          0.21632518,
          0.16687742,
          0.17277282,
          0.1496398,
          0.26253084,
          0.28591735,
          0.25275069,
          0.2554262,
          0.28164532,
          0.25453233,
          0.23629854,
          0.18867456,
          0.2172163,
          0.266829,
          0.2557784,
          0.27706499,
          0.24337094,
          0.20613862,
          0.22065513,
          0.14345109,
          0.25164801,
          0.20282499,
          0.29507812,
          0.21859636,
          0.20773524,
          0.18082069,
          0.34226202,
          0.26752656,
          0.24819328,
          0.21130195
         ],
         "y0": " ",
         "yaxis": "y"
        },
        {
         "alignmentgroup": "True",
         "hovertemplate": "=naif_solution_alpha_known<br>value=%{y}<extra></extra>",
         "legendgroup": "naif_solution_alpha_known",
         "marker": {
          "color": "#EF553B"
         },
         "name": "naif_solution_alpha_known",
         "notched": false,
         "offsetgroup": "naif_solution_alpha_known",
         "orientation": "v",
         "showlegend": true,
         "type": "box",
         "x0": " ",
         "xaxis": "x2",
         "y": [
          0.0684567,
          0.03980644,
          0.03925736,
          0.06057109,
          0.0627973,
          0.04804054,
          0.03481478,
          0.06318763,
          0.06145772,
          0.07020916,
          0.05397843,
          0.04461581,
          0.09191292,
          0.04940997,
          0.04464761,
          0.05400765,
          0.0644487,
          0.03969546,
          0.02383873,
          0.04116064,
          0.07942298,
          0.03464225,
          0.05783562,
          0.0443927,
          0.05501226,
          0.06482422,
          0.08199289,
          0.02436778,
          0.01997423,
          0.04889598,
          0.06033941,
          0.05952865,
          0.06882183,
          0.04047813,
          0.06445473,
          0.0286302,
          0.03367982,
          0.00660833,
          0.04973899,
          0.07933891,
          0.04339939,
          0.07403741,
          0.05994613,
          0.05790514,
          0.01961502,
          0.06777926,
          0.05087409,
          0.06248127,
          0.08125717,
          0.05815429,
          0.06155002,
          0.04999753,
          0.03192877,
          0.06165953,
          0.03426504,
          0.07573303,
          0.04057857,
          0.04779502,
          0.08460519,
          0.04411161,
          0.04929578,
          0.05155244,
          0.03604343,
          0.06020206,
          0.0647937,
          0.05898281,
          0.02924836,
          0.06591257,
          0.05468484,
          0.05700265,
          0.09478864,
          0.07250077,
          0.05705564,
          0.08441779,
          0.06045377,
          0.0560116,
          0.0519854,
          0.04096452,
          0.06451857,
          0.0327336,
          0.0481376,
          0.02806918,
          0.05729187,
          0.06397767,
          0.05324258,
          0.05553982,
          0.0551732,
          0.0791293,
          0.05907231,
          0.06568696,
          0.0548287,
          0.02239508,
          0.06102783,
          0.06593792,
          0.04404846,
          0.03679192,
          0.07252063,
          0.05294676,
          0.03355396,
          0.04022612
         ],
         "y0": " ",
         "yaxis": "y2"
        },
        {
         "alignmentgroup": "True",
         "hovertemplate": "=EM_solution_alpha_known<br>value=%{y}<extra></extra>",
         "legendgroup": "EM_solution_alpha_known",
         "marker": {
          "color": "#00cc96"
         },
         "name": "EM_solution_alpha_known",
         "notched": false,
         "offsetgroup": "EM_solution_alpha_known",
         "orientation": "v",
         "showlegend": true,
         "type": "box",
         "x0": " ",
         "xaxis": "x3",
         "y": [
          0.06512613,
          0.0406948,
          0.05897233,
          0.05588961,
          0.06989254,
          0.06624626,
          0.05349798,
          0.07141434,
          0.05331151,
          0.07527162,
          0.06110872,
          0.06266689,
          0.086042,
          0.05624875,
          0.05362416,
          0.04357538,
          0.06232386,
          0.05984782,
          0.04173862,
          0.06621692,
          0.0764614,
          0.0394487,
          0.05118118,
          0.05132577,
          0.05873611,
          0.05731804,
          0.07445159,
          0.03646856,
          0.03294619,
          0.05758232,
          0.06208236,
          0.06123249,
          0.0697403,
          0.06028478,
          0.05604709,
          0.04017549,
          0.03910604,
          0.03380491,
          0.05470353,
          0.07005007,
          0.04489707,
          0.07327431,
          0.05561267,
          0.06088438,
          0.03417005,
          0.06891524,
          0.0589197,
          0.06720059,
          0.07607988,
          0.06924728,
          0.0643115,
          0.05989606,
          0.04911803,
          0.06451942,
          0.04108913,
          0.07204808,
          0.04590682,
          0.05325113,
          0.10175482,
          0.05079363,
          0.04008923,
          0.06781414,
          0.04752854,
          0.06294277,
          0.0722319,
          0.06935064,
          0.0434937,
          0.07014478,
          0.05783113,
          0.0525465,
          0.09649658,
          0.07223681,
          0.063247,
          0.08704152,
          0.0622803,
          0.06273352,
          0.05770111,
          0.05012874,
          0.06002917,
          0.03819455,
          0.05186555,
          0.0409988,
          0.05669884,
          0.0678005,
          0.04608337,
          0.05253933,
          0.05563274,
          0.08335594,
          0.07388167,
          0.08357744,
          0.06136195,
          0.03781608,
          0.0541252,
          0.05789628,
          0.05209589,
          0.05772648,
          0.06693938,
          0.06721514,
          0.05227456,
          0.04775867
         ],
         "y0": " ",
         "yaxis": "y3"
        },
        {
         "alignmentgroup": "True",
         "hovertemplate": "=EM_solution<br>value=%{y}<extra></extra>",
         "legendgroup": "EM_solution",
         "marker": {
          "color": "#ab63fa"
         },
         "name": "EM_solution",
         "notched": false,
         "offsetgroup": "EM_solution",
         "orientation": "v",
         "showlegend": true,
         "type": "box",
         "x0": " ",
         "xaxis": "x4",
         "y": [
          0.06313497,
          0.03994713,
          0.05815423,
          0.05569421,
          0.06905586,
          0.06558861,
          0.05302933,
          0.07049829,
          0.05426892,
          0.0739467,
          0.0628039,
          0.06404334,
          0.08623633,
          0.05751497,
          0.05418569,
          0.04613443,
          0.06148991,
          0.05881072,
          0.04425049,
          0.06604842,
          0.07419212,
          0.04370675,
          0.05167237,
          0.05082149,
          0.05889158,
          0.05773106,
          0.07435458,
          0.0369971,
          0.0321409,
          0.05700301,
          0.06093678,
          0.05964291,
          0.07067039,
          0.06283444,
          0.05864962,
          0.03923222,
          0.03799523,
          0.03454829,
          0.0532995,
          0.07035362,
          0.04601376,
          0.07841366,
          0.05528308,
          0.05979004,
          0.03408946,
          0.06922419,
          0.05782115,
          0.06565427,
          0.07565083,
          0.07072845,
          0.06248341,
          0.0589387,
          0.0500565,
          0.06588069,
          0.0418825,
          0.07058168,
          0.04407048,
          0.05347612,
          0.10082319,
          0.05207409,
          0.03921438,
          0.06740218,
          0.04907444,
          0.0651615,
          0.06956536,
          0.07037959,
          0.04209091,
          0.07368389,
          0.05807356,
          0.05464145,
          0.09681624,
          0.0712618,
          0.06226619,
          0.08640406,
          0.06223197,
          0.06625836,
          0.0580167,
          0.04704764,
          0.0630775,
          0.0365375,
          0.05098651,
          0.04280702,
          0.05600337,
          0.07138862,
          0.04592999,
          0.0507288,
          0.06030314,
          0.08367062,
          0.07588993,
          0.08185359,
          0.05939992,
          0.04013761,
          0.0555779,
          0.05500547,
          0.05148339,
          0.05673026,
          0.0663897,
          0.07013255,
          0.05001976,
          0.05300974
         ],
         "y0": " ",
         "yaxis": "y4"
        },
        {
         "marker": {
          "color": "rgba(0, 0, 0, 1)",
          "line": {
           "width": 2
          },
          "size": 10,
          "symbol": 34
         },
         "mode": "markers",
         "name": "0.058 Real value",
         "type": "scatter",
         "xaxis": "x",
         "y": [
          0.0578854
         ],
         "yaxis": "y"
        },
        {
         "marker": {
          "color": "rgba(0, 0, 0, 1)",
          "line": {
           "width": 2
          },
          "size": 10,
          "symbol": 34
         },
         "mode": "markers",
         "name": "0.058 Real value",
         "type": "scatter",
         "xaxis": "x2",
         "y": [
          0.0578854
         ],
         "yaxis": "y2"
        },
        {
         "marker": {
          "color": "rgba(0, 0, 0, 1)",
          "line": {
           "width": 2
          },
          "size": 10,
          "symbol": 34
         },
         "mode": "markers",
         "name": "0.058 Real value",
         "type": "scatter",
         "xaxis": "x3",
         "y": [
          0.0578854
         ],
         "yaxis": "y3"
        },
        {
         "marker": {
          "color": "rgba(0, 0, 0, 1)",
          "line": {
           "width": 2
          },
          "size": 10,
          "symbol": 34
         },
         "mode": "markers",
         "name": "0.058 Real value",
         "type": "scatter",
         "xaxis": "x4",
         "y": [
          0.0578854
         ],
         "yaxis": "y4"
        }
       ],
       "layout": {
        "annotations": [
         {
          "font": {},
          "showarrow": false,
          "text": "=naif_solution",
          "x": 0.1175,
          "xanchor": "center",
          "xref": "paper",
          "y": 1,
          "yanchor": "bottom",
          "yref": "paper"
         },
         {
          "font": {},
          "showarrow": false,
          "text": "=naif_solution_alpha_known",
          "x": 0.3725,
          "xanchor": "center",
          "xref": "paper",
          "y": 1,
          "yanchor": "bottom",
          "yref": "paper"
         },
         {
          "font": {},
          "showarrow": false,
          "text": "=EM_solution_alpha_known",
          "x": 0.6275,
          "xanchor": "center",
          "xref": "paper",
          "y": 1,
          "yanchor": "bottom",
          "yref": "paper"
         },
         {
          "font": {},
          "showarrow": false,
          "text": "=EM_solution",
          "x": 0.8824999999999998,
          "xanchor": "center",
          "xref": "paper",
          "y": 1,
          "yanchor": "bottom",
          "yref": "paper"
         }
        ],
        "boxmode": "overlay",
        "legend": {
         "title": {
          "text": ""
         },
         "tracegroupgap": 0
        },
        "template": {
         "data": {
          "bar": [
           {
            "error_x": {
             "color": "#2a3f5f"
            },
            "error_y": {
             "color": "#2a3f5f"
            },
            "marker": {
             "line": {
              "color": "#E5ECF6",
              "width": 0.5
             }
            },
            "type": "bar"
           }
          ],
          "barpolar": [
           {
            "marker": {
             "line": {
              "color": "#E5ECF6",
              "width": 0.5
             }
            },
            "type": "barpolar"
           }
          ],
          "carpet": [
           {
            "aaxis": {
             "endlinecolor": "#2a3f5f",
             "gridcolor": "white",
             "linecolor": "white",
             "minorgridcolor": "white",
             "startlinecolor": "#2a3f5f"
            },
            "baxis": {
             "endlinecolor": "#2a3f5f",
             "gridcolor": "white",
             "linecolor": "white",
             "minorgridcolor": "white",
             "startlinecolor": "#2a3f5f"
            },
            "type": "carpet"
           }
          ],
          "choropleth": [
           {
            "colorbar": {
             "outlinewidth": 0,
             "ticks": ""
            },
            "type": "choropleth"
           }
          ],
          "contour": [
           {
            "colorbar": {
             "outlinewidth": 0,
             "ticks": ""
            },
            "colorscale": [
             [
              0,
              "#0d0887"
             ],
             [
              0.1111111111111111,
              "#46039f"
             ],
             [
              0.2222222222222222,
              "#7201a8"
             ],
             [
              0.3333333333333333,
              "#9c179e"
             ],
             [
              0.4444444444444444,
              "#bd3786"
             ],
             [
              0.5555555555555556,
              "#d8576b"
             ],
             [
              0.6666666666666666,
              "#ed7953"
             ],
             [
              0.7777777777777778,
              "#fb9f3a"
             ],
             [
              0.8888888888888888,
              "#fdca26"
             ],
             [
              1,
              "#f0f921"
             ]
            ],
            "type": "contour"
           }
          ],
          "contourcarpet": [
           {
            "colorbar": {
             "outlinewidth": 0,
             "ticks": ""
            },
            "type": "contourcarpet"
           }
          ],
          "heatmap": [
           {
            "colorbar": {
             "outlinewidth": 0,
             "ticks": ""
            },
            "colorscale": [
             [
              0,
              "#0d0887"
             ],
             [
              0.1111111111111111,
              "#46039f"
             ],
             [
              0.2222222222222222,
              "#7201a8"
             ],
             [
              0.3333333333333333,
              "#9c179e"
             ],
             [
              0.4444444444444444,
              "#bd3786"
             ],
             [
              0.5555555555555556,
              "#d8576b"
             ],
             [
              0.6666666666666666,
              "#ed7953"
             ],
             [
              0.7777777777777778,
              "#fb9f3a"
             ],
             [
              0.8888888888888888,
              "#fdca26"
             ],
             [
              1,
              "#f0f921"
             ]
            ],
            "type": "heatmap"
           }
          ],
          "heatmapgl": [
           {
            "colorbar": {
             "outlinewidth": 0,
             "ticks": ""
            },
            "colorscale": [
             [
              0,
              "#0d0887"
             ],
             [
              0.1111111111111111,
              "#46039f"
             ],
             [
              0.2222222222222222,
              "#7201a8"
             ],
             [
              0.3333333333333333,
              "#9c179e"
             ],
             [
              0.4444444444444444,
              "#bd3786"
             ],
             [
              0.5555555555555556,
              "#d8576b"
             ],
             [
              0.6666666666666666,
              "#ed7953"
             ],
             [
              0.7777777777777778,
              "#fb9f3a"
             ],
             [
              0.8888888888888888,
              "#fdca26"
             ],
             [
              1,
              "#f0f921"
             ]
            ],
            "type": "heatmapgl"
           }
          ],
          "histogram": [
           {
            "marker": {
             "colorbar": {
              "outlinewidth": 0,
              "ticks": ""
             }
            },
            "type": "histogram"
           }
          ],
          "histogram2d": [
           {
            "colorbar": {
             "outlinewidth": 0,
             "ticks": ""
            },
            "colorscale": [
             [
              0,
              "#0d0887"
             ],
             [
              0.1111111111111111,
              "#46039f"
             ],
             [
              0.2222222222222222,
              "#7201a8"
             ],
             [
              0.3333333333333333,
              "#9c179e"
             ],
             [
              0.4444444444444444,
              "#bd3786"
             ],
             [
              0.5555555555555556,
              "#d8576b"
             ],
             [
              0.6666666666666666,
              "#ed7953"
             ],
             [
              0.7777777777777778,
              "#fb9f3a"
             ],
             [
              0.8888888888888888,
              "#fdca26"
             ],
             [
              1,
              "#f0f921"
             ]
            ],
            "type": "histogram2d"
           }
          ],
          "histogram2dcontour": [
           {
            "colorbar": {
             "outlinewidth": 0,
             "ticks": ""
            },
            "colorscale": [
             [
              0,
              "#0d0887"
             ],
             [
              0.1111111111111111,
              "#46039f"
             ],
             [
              0.2222222222222222,
              "#7201a8"
             ],
             [
              0.3333333333333333,
              "#9c179e"
             ],
             [
              0.4444444444444444,
              "#bd3786"
             ],
             [
              0.5555555555555556,
              "#d8576b"
             ],
             [
              0.6666666666666666,
              "#ed7953"
             ],
             [
              0.7777777777777778,
              "#fb9f3a"
             ],
             [
              0.8888888888888888,
              "#fdca26"
             ],
             [
              1,
              "#f0f921"
             ]
            ],
            "type": "histogram2dcontour"
           }
          ],
          "mesh3d": [
           {
            "colorbar": {
             "outlinewidth": 0,
             "ticks": ""
            },
            "type": "mesh3d"
           }
          ],
          "parcoords": [
           {
            "line": {
             "colorbar": {
              "outlinewidth": 0,
              "ticks": ""
             }
            },
            "type": "parcoords"
           }
          ],
          "pie": [
           {
            "automargin": true,
            "type": "pie"
           }
          ],
          "scatter": [
           {
            "marker": {
             "colorbar": {
              "outlinewidth": 0,
              "ticks": ""
             }
            },
            "type": "scatter"
           }
          ],
          "scatter3d": [
           {
            "line": {
             "colorbar": {
              "outlinewidth": 0,
              "ticks": ""
             }
            },
            "marker": {
             "colorbar": {
              "outlinewidth": 0,
              "ticks": ""
             }
            },
            "type": "scatter3d"
           }
          ],
          "scattercarpet": [
           {
            "marker": {
             "colorbar": {
              "outlinewidth": 0,
              "ticks": ""
             }
            },
            "type": "scattercarpet"
           }
          ],
          "scattergeo": [
           {
            "marker": {
             "colorbar": {
              "outlinewidth": 0,
              "ticks": ""
             }
            },
            "type": "scattergeo"
           }
          ],
          "scattergl": [
           {
            "marker": {
             "colorbar": {
              "outlinewidth": 0,
              "ticks": ""
             }
            },
            "type": "scattergl"
           }
          ],
          "scattermapbox": [
           {
            "marker": {
             "colorbar": {
              "outlinewidth": 0,
              "ticks": ""
             }
            },
            "type": "scattermapbox"
           }
          ],
          "scatterpolar": [
           {
            "marker": {
             "colorbar": {
              "outlinewidth": 0,
              "ticks": ""
             }
            },
            "type": "scatterpolar"
           }
          ],
          "scatterpolargl": [
           {
            "marker": {
             "colorbar": {
              "outlinewidth": 0,
              "ticks": ""
             }
            },
            "type": "scatterpolargl"
           }
          ],
          "scatterternary": [
           {
            "marker": {
             "colorbar": {
              "outlinewidth": 0,
              "ticks": ""
             }
            },
            "type": "scatterternary"
           }
          ],
          "surface": [
           {
            "colorbar": {
             "outlinewidth": 0,
             "ticks": ""
            },
            "colorscale": [
             [
              0,
              "#0d0887"
             ],
             [
              0.1111111111111111,
              "#46039f"
             ],
             [
              0.2222222222222222,
              "#7201a8"
             ],
             [
              0.3333333333333333,
              "#9c179e"
             ],
             [
              0.4444444444444444,
              "#bd3786"
             ],
             [
              0.5555555555555556,
              "#d8576b"
             ],
             [
              0.6666666666666666,
              "#ed7953"
             ],
             [
              0.7777777777777778,
              "#fb9f3a"
             ],
             [
              0.8888888888888888,
              "#fdca26"
             ],
             [
              1,
              "#f0f921"
             ]
            ],
            "type": "surface"
           }
          ],
          "table": [
           {
            "cells": {
             "fill": {
              "color": "#EBF0F8"
             },
             "line": {
              "color": "white"
             }
            },
            "header": {
             "fill": {
              "color": "#C8D4E3"
             },
             "line": {
              "color": "white"
             }
            },
            "type": "table"
           }
          ]
         },
         "layout": {
          "annotationdefaults": {
           "arrowcolor": "#2a3f5f",
           "arrowhead": 0,
           "arrowwidth": 1
          },
          "autotypenumbers": "strict",
          "coloraxis": {
           "colorbar": {
            "outlinewidth": 0,
            "ticks": ""
           }
          },
          "colorscale": {
           "diverging": [
            [
             0,
             "#8e0152"
            ],
            [
             0.1,
             "#c51b7d"
            ],
            [
             0.2,
             "#de77ae"
            ],
            [
             0.3,
             "#f1b6da"
            ],
            [
             0.4,
             "#fde0ef"
            ],
            [
             0.5,
             "#f7f7f7"
            ],
            [
             0.6,
             "#e6f5d0"
            ],
            [
             0.7,
             "#b8e186"
            ],
            [
             0.8,
             "#7fbc41"
            ],
            [
             0.9,
             "#4d9221"
            ],
            [
             1,
             "#276419"
            ]
           ],
           "sequential": [
            [
             0,
             "#0d0887"
            ],
            [
             0.1111111111111111,
             "#46039f"
            ],
            [
             0.2222222222222222,
             "#7201a8"
            ],
            [
             0.3333333333333333,
             "#9c179e"
            ],
            [
             0.4444444444444444,
             "#bd3786"
            ],
            [
             0.5555555555555556,
             "#d8576b"
            ],
            [
             0.6666666666666666,
             "#ed7953"
            ],
            [
             0.7777777777777778,
             "#fb9f3a"
            ],
            [
             0.8888888888888888,
             "#fdca26"
            ],
            [
             1,
             "#f0f921"
            ]
           ],
           "sequentialminus": [
            [
             0,
             "#0d0887"
            ],
            [
             0.1111111111111111,
             "#46039f"
            ],
            [
             0.2222222222222222,
             "#7201a8"
            ],
            [
             0.3333333333333333,
             "#9c179e"
            ],
            [
             0.4444444444444444,
             "#bd3786"
            ],
            [
             0.5555555555555556,
             "#d8576b"
            ],
            [
             0.6666666666666666,
             "#ed7953"
            ],
            [
             0.7777777777777778,
             "#fb9f3a"
            ],
            [
             0.8888888888888888,
             "#fdca26"
            ],
            [
             1,
             "#f0f921"
            ]
           ]
          },
          "colorway": [
           "#636efa",
           "#EF553B",
           "#00cc96",
           "#ab63fa",
           "#FFA15A",
           "#19d3f3",
           "#FF6692",
           "#B6E880",
           "#FF97FF",
           "#FECB52"
          ],
          "font": {
           "color": "#2a3f5f"
          },
          "geo": {
           "bgcolor": "white",
           "lakecolor": "white",
           "landcolor": "#E5ECF6",
           "showlakes": true,
           "showland": true,
           "subunitcolor": "white"
          },
          "hoverlabel": {
           "align": "left"
          },
          "hovermode": "closest",
          "mapbox": {
           "style": "light"
          },
          "paper_bgcolor": "white",
          "plot_bgcolor": "#E5ECF6",
          "polar": {
           "angularaxis": {
            "gridcolor": "white",
            "linecolor": "white",
            "ticks": ""
           },
           "bgcolor": "#E5ECF6",
           "radialaxis": {
            "gridcolor": "white",
            "linecolor": "white",
            "ticks": ""
           }
          },
          "scene": {
           "xaxis": {
            "backgroundcolor": "#E5ECF6",
            "gridcolor": "white",
            "gridwidth": 2,
            "linecolor": "white",
            "showbackground": true,
            "ticks": "",
            "zerolinecolor": "white"
           },
           "yaxis": {
            "backgroundcolor": "#E5ECF6",
            "gridcolor": "white",
            "gridwidth": 2,
            "linecolor": "white",
            "showbackground": true,
            "ticks": "",
            "zerolinecolor": "white"
           },
           "zaxis": {
            "backgroundcolor": "#E5ECF6",
            "gridcolor": "white",
            "gridwidth": 2,
            "linecolor": "white",
            "showbackground": true,
            "ticks": "",
            "zerolinecolor": "white"
           }
          },
          "shapedefaults": {
           "line": {
            "color": "#2a3f5f"
           }
          },
          "ternary": {
           "aaxis": {
            "gridcolor": "white",
            "linecolor": "white",
            "ticks": ""
           },
           "baxis": {
            "gridcolor": "white",
            "linecolor": "white",
            "ticks": ""
           },
           "bgcolor": "#E5ECF6",
           "caxis": {
            "gridcolor": "white",
            "linecolor": "white",
            "ticks": ""
           }
          },
          "title": {
           "x": 0.05
          },
          "xaxis": {
           "automargin": true,
           "gridcolor": "white",
           "linecolor": "white",
           "ticks": "",
           "title": {
            "standoff": 15
           },
           "zerolinecolor": "white",
           "zerolinewidth": 2
          },
          "yaxis": {
           "automargin": true,
           "gridcolor": "white",
           "linecolor": "white",
           "ticks": "",
           "title": {
            "standoff": 15
           },
           "zerolinecolor": "white",
           "zerolinewidth": 2
          }
         }
        },
        "title": {
         "text": "Variant 5"
        },
        "xaxis": {
         "anchor": "y",
         "domain": [
          0,
          0.235
         ]
        },
        "xaxis2": {
         "anchor": "y2",
         "domain": [
          0.255,
          0.49
         ],
         "matches": "x"
        },
        "xaxis3": {
         "anchor": "y3",
         "domain": [
          0.51,
          0.745
         ],
         "matches": "x"
        },
        "xaxis4": {
         "anchor": "y4",
         "domain": [
          0.7649999999999999,
          0.9999999999999999
         ],
         "matches": "x"
        },
        "yaxis": {
         "anchor": "x",
         "domain": [
          0,
          1
         ],
         "title": {
          "text": "value"
         }
        },
        "yaxis2": {
         "anchor": "x2",
         "domain": [
          0,
          1
         ],
         "matches": "y",
         "showticklabels": false
        },
        "yaxis3": {
         "anchor": "x3",
         "domain": [
          0,
          1
         ],
         "matches": "y",
         "showticklabels": false
        },
        "yaxis4": {
         "anchor": "x4",
         "domain": [
          0,
          1
         ],
         "matches": "y",
         "showticklabels": false
        }
       }
      }
     },
     "metadata": {},
     "output_type": "display_data"
    }
   ],
   "source": [
    "# useful for the visualization\n",
    "nb_variants = 5\n",
    "nb_simulation = 100\n",
    "# alpha_list = list(np.arange(0.,0.5, 0.05))\n",
    "columns_name = ['naif_solution', 'naif_solution_alpha_known','EM_solution_alpha_known', 'EM_solution']\n",
    "# Start visualization\n",
    "for variant_actuel in range(nb_variants):\n",
    "    temp = []\n",
    "    for i in range(nb_simulation):\n",
    "        new_row = [np.array(temp_df[col])[i][variant_actuel] for col in columns_name]\n",
    "        temp.append(new_row)\n",
    "    variant = pd.DataFrame(temp, columns=columns_name)\n",
    "    real_value = list(temp_df.ratio)[0][variant_actuel]\n",
    "    fig = px.box(variant.melt(), y=\"value\", facet_col=\"variable\", boxmode=\"overlay\", color=\"variable\", labels={'variable': ''}, title=f'Variant {variant_actuel + 1}')\n",
    "    fig.add_trace(go.Scatter(y=[real_value], mode=\"markers\", name=f\"{real_value:.3f} Real value\", marker_line_width=2, marker_size=10,marker_symbol=34, marker_color='rgba(0, 0, 0, 1)' ),row='all', col='all', exclude_empty_subplots=True)\n",
    "\n",
    "    fig.show()"
   ]
  }
 ],
 "metadata": {
  "interpreter": {
   "hash": "d37d34c8b6e46bc8d644ae232f8016065afe3cc56e21fe5eeae17da804381fcd"
  },
  "kernelspec": {
   "display_name": "Python 3.8.10 64-bit ('stage': conda)",
   "name": "python3"
  },
  "language_info": {
   "codemirror_mode": {
    "name": "ipython",
    "version": 3
   },
   "file_extension": ".py",
   "mimetype": "text/x-python",
   "name": "python",
   "nbconvert_exporter": "python",
   "pygments_lexer": "ipython3",
   "version": "3.8.10"
  },
  "orig_nbformat": 4
 },
 "nbformat": 4,
 "nbformat_minor": 2
}
